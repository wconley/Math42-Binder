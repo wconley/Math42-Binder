{
 "cells": [
  {
   "cell_type": "code",
   "execution_count": 1,
   "id": "2459a72a",
   "metadata": {},
   "outputs": [],
   "source": [
    "import numpy as np\n",
    "from ipywidgets import IntSlider, HTMLMath\n",
    "\n",
    "import plotlymath as pm\n",
    "from myutils import interact, latex\n",
    "colors = pm.plotly.colors.DEFAULT_PLOTLY_COLORS"
   ]
  },
  {
   "cell_type": "markdown",
   "id": "6e97c36e",
   "metadata": {},
   "source": [
    "# Example 1: War and Peace\n",
    "\n",
    "## Order of the states: \n",
    "\n",
    "$P$ - Peace\n",
    "\n",
    "$N$ - Neutral\n",
    "\n",
    "$W$ - War\n"
   ]
  },
  {
   "cell_type": "code",
   "execution_count": 2,
   "id": "ea3b74f6",
   "metadata": {},
   "outputs": [],
   "source": [
    "M = np.array([\n",
    "    [0.30, 0.20, 0   ], \n",
    "    [0.60, 0.50, 0.50], \n",
    "    [0.10, 0.30, 0.50], \n",
    "])"
   ]
  },
  {
   "cell_type": "code",
   "execution_count": 4,
   "id": "697436c7",
   "metadata": {},
   "outputs": [
    {
     "data": {
      "application/vnd.jupyter.widget-view+json": {
       "model_id": "52e17aff4d6f4dc8aaad4d88f5fd0581",
       "version_major": 2,
       "version_minor": 0
      },
      "text/plain": [
       "interactive(children=(IntSlider(value=0, description='$t$'), Output()), _dom_classes=('widget-interact',))"
      ]
     },
     "metadata": {},
     "output_type": "display_data"
    },
    {
     "data": {
      "application/vnd.jupyter.widget-view+json": {
       "model_id": "037c79ace0fc4b248be9d39e9cd655cb",
       "version_major": 2,
       "version_minor": 0
      },
      "text/plain": [
       "FigureWidget({\n",
       "    'data': [{'line': {'color': 'lightgray'},\n",
       "              'marker': {'color': 'green', 'size'…"
      ]
     },
     "metadata": {},
     "output_type": "display_data"
    }
   ],
   "source": [
    "label = latex((r\"\\text{Peace}\", r\"\\text{Neutral}\", r\"\\text{War}\"))\n",
    "\n",
    "initial_state = np.array((0, 0, 1), dtype=float)\n",
    "state_list = [initial_state]\n",
    "for t in range(100):\n",
    "    state_list.append(M @ state_list[-1])\n",
    "state_list = np.insert(state_list, 0, np.arange(101), axis=1)\n",
    "\n",
    "figure, plot = pm.make_figure(widget=True)\n",
    "plot._subplot.xaxis.domain = [0, 0.7]\n",
    "plot.axes_ranges((0, 20), (0, 1))\n",
    "\n",
    "@interact(t=IntSlider(min=0, max=100, value=0, description=\"$t$\"))\n",
    "def update(t):\n",
    "    text = fr\"${label} = {latex(state_list[t,1:], round=3)}$\"\n",
    "    with figure.batch_update():\n",
    "        plot.text(text, (0.8, 0.5), paper=True, id=\"label\")\n",
    "        plot.points(state_list[:t+1,(0,1)], name=\"Peace\", id=\"Peace\", \n",
    "                mode=\"markers+lines\", line_color=\"lightgray\", marker_color=\"green\")\n",
    "        plot.points(state_list[:t+1,(0,2)], name=\"Neutral\", id=\"Neutral\", \n",
    "                mode=\"markers+lines\", line_color=\"lightgray\", marker_color=\"gray\")\n",
    "        plot.points(state_list[:t+1,(0,3)], name=\"War\", id=\"War\", \n",
    "                mode=\"markers+lines\", line_color=\"lightgray\", marker_color=\"red\")\n",
    "\n",
    "figure\n"
   ]
  },
  {
   "cell_type": "code",
   "execution_count": 5,
   "id": "5ccef9f6",
   "metadata": {},
   "outputs": [
    {
     "data": {
      "application/vnd.jupyter.widget-view+json": {
       "model_id": "1a2ebf2f5b1c426e890d6454b65568de",
       "version_major": 2,
       "version_minor": 0
      },
      "text/plain": [
       "interactive(children=(IntSlider(value=0, description='$t$'), Output()), _dom_classes=('widget-interact',))"
      ]
     },
     "metadata": {},
     "output_type": "display_data"
    },
    {
     "data": {
      "application/vnd.jupyter.widget-view+json": {
       "model_id": "431a0aa81fa140d687b3818cd303d9d9",
       "version_major": 2,
       "version_minor": 0
      },
      "text/plain": [
       "FigureWidget({\n",
       "    'data': [{'marker': {'color': 'green'},\n",
       "              'name': 'Peace',\n",
       "              'type'…"
      ]
     },
     "metadata": {},
     "output_type": "display_data"
    }
   ],
   "source": [
    "figure, plot = pm.make_figure(widget=True)\n",
    "plot._subplot.xaxis.domain = [0, 0.7]\n",
    "plot.axes_ranges((0, 20), (0, 1))\n",
    "figure.layout.update(barmode=\"stack\")\n",
    "\n",
    "@interact(t=IntSlider(min=0, max=100, value=0, description=\"$t$\"))\n",
    "def update(t):\n",
    "    text = fr\"${label} = {latex(state_list[t,1:], round=3)}$\"\n",
    "    with figure.batch_update():\n",
    "        plot.text(text, (0.8, 0.5), paper=True, id=\"label\")\n",
    "        plot.Bar(x=state_list[:t+1,0], y=state_list[:t+1,1], name=\"Peace\", id=\"Peace\", \n",
    "                marker_color=\"green\")\n",
    "        plot.Bar(x=state_list[:t+1,0], y=state_list[:t+1,2], name=\"Neutral\", id=\"Neutral\", \n",
    "                marker_color=\"lightgray\")\n",
    "        plot.Bar(x=state_list[:t+1,0], y=state_list[:t+1,3], name=\"War\", id=\"War\", \n",
    "                marker_color=\"red\")\n",
    "\n",
    "figure\n"
   ]
  },
  {
   "cell_type": "code",
   "execution_count": 6,
   "id": "75640acf",
   "metadata": {},
   "outputs": [
    {
     "data": {
      "text/plain": [
       "array([ 1.        ,  0.35615528, -0.05615528])"
      ]
     },
     "execution_count": 6,
     "metadata": {},
     "output_type": "execute_result"
    }
   ],
   "source": [
    "evalues, T = np.linalg.eig(M)\n",
    "evalues"
   ]
  },
  {
   "cell_type": "code",
   "execution_count": 7,
   "id": "c6bf390b",
   "metadata": {},
   "outputs": [
    {
     "data": {
      "text/plain": [
       "array([0.14705882, 0.51470588, 0.33823529])"
      ]
     },
     "execution_count": 7,
     "metadata": {},
     "output_type": "execute_result"
    }
   ],
   "source": [
    "T[:,0] / sum(T[:,0])"
   ]
  },
  {
   "cell_type": "code",
   "execution_count": 8,
   "id": "08d1c0ce",
   "metadata": {},
   "outputs": [
    {
     "data": {
      "text/plain": [
       "array([[0.14705882, 0.14705882, 0.14705882],\n",
       "       [0.51470588, 0.51470588, 0.51470588],\n",
       "       [0.33823529, 0.33823529, 0.33823529]])"
      ]
     },
     "execution_count": 8,
     "metadata": {},
     "output_type": "execute_result"
    }
   ],
   "source": [
    "np.linalg.matrix_power(M, 1000)"
   ]
  },
  {
   "cell_type": "code",
   "execution_count": 9,
   "id": "b56c2223",
   "metadata": {},
   "outputs": [
    {
     "data": {
      "application/vnd.jupyter.widget-view+json": {
       "model_id": "04d46268aaec459e998ea87c56f996dc",
       "version_major": 2,
       "version_minor": 0
      },
      "text/plain": [
       "HTMLMath(value='\\\\begin{pmatrix} 0.1471 & 0.1471 & 0.1471 \\\\\\\\ 0.5147 & 0.5147 & 0.5147 \\\\\\\\ 0.3382 & 0.3382 &…"
      ]
     },
     "metadata": {},
     "output_type": "display_data"
    }
   ],
   "source": [
    "HTMLMath(latex(np.linalg.matrix_power(M, 1000), round=4))"
   ]
  },
  {
   "cell_type": "markdown",
   "id": "2b1fb2ec",
   "metadata": {},
   "source": [
    "<br>\n",
    "<br>\n",
    "<br>\n",
    "<br>\n",
    "<br>\n",
    "\n",
    "<br>\n",
    "<br>\n",
    "<br>\n",
    "<br>\n",
    "<br>\n",
    "\n",
    "<br>\n",
    "<br>\n",
    "<br>\n",
    "<br>\n",
    "<br>\n"
   ]
  },
  {
   "cell_type": "markdown",
   "id": "ad8b9703",
   "metadata": {},
   "source": [
    "# Example 2: Markov-ian squirrels in the UK\n",
    "(from the textbook)\n",
    "\n",
    "## States: \n",
    "\n",
    "$R$ - This area has only red squirrels\n",
    "\n",
    "$G$ - This area has only gray squirrels\n",
    "\n",
    "$B$ - This area has both species of squirrels\n",
    "\n",
    "$O$ - This area has neither species of squirrels\n"
   ]
  },
  {
   "cell_type": "code",
   "execution_count": 10,
   "id": "44fc7275",
   "metadata": {},
   "outputs": [],
   "source": [
    "M = np.array([\n",
    "    [0.8797, 0.0382, 0.0527, 0.0008], \n",
    "    [0.0212, 0.8002, 0.0041, 0.0143], \n",
    "    [0.0981, 0.0273, 0.8802, 0.0527], \n",
    "    [0.0010, 0.1343, 0.0630, 0.9322], \n",
    "])"
   ]
  },
  {
   "cell_type": "code",
   "execution_count": 11,
   "id": "b3fd1165",
   "metadata": {},
   "outputs": [
    {
     "data": {
      "application/vnd.jupyter.widget-view+json": {
       "model_id": "0ebff721488949049e00cc5fa7212dd3",
       "version_major": 2,
       "version_minor": 0
      },
      "text/plain": [
       "interactive(children=(IntSlider(value=0, description='$t$'), Output()), _dom_classes=('widget-interact',))"
      ]
     },
     "metadata": {},
     "output_type": "display_data"
    },
    {
     "data": {
      "application/vnd.jupyter.widget-view+json": {
       "model_id": "4f883c24f800439f995c68f90b2dbc83",
       "version_major": 2,
       "version_minor": 0
      },
      "text/plain": [
       "FigureWidget({\n",
       "    'data': [{'line': {'color': 'lightgray'},\n",
       "              'marker': {'color': 'red', 'size': …"
      ]
     },
     "metadata": {},
     "output_type": "display_data"
    }
   ],
   "source": [
    "label = latex((r\"\\text{Red}\", r\"\\text{Gray}\", r\"\\text{Both}\", r\"\\text{Neither}\"))\n",
    "\n",
    "initial_state = np.array((0.7, 0, 0, 0.3), dtype=float)\n",
    "state_list = [initial_state]\n",
    "for t in range(100):\n",
    "    state_list.append(M @ state_list[-1])\n",
    "state_list = np.insert(state_list, 0, np.arange(101), axis=1)\n",
    "\n",
    "figure, plot = pm.make_figure(widget=True)\n",
    "plot._subplot.xaxis.domain = [0, 0.7]\n",
    "plot.axes_ranges((0, 20), (0, 1))\n",
    "\n",
    "@interact(t=IntSlider(min=0, max=100, value=0, description=\"$t$\"))\n",
    "def update(t):\n",
    "    text = fr\"${label} = {latex(state_list[t,1:], round=3)}$\"\n",
    "    with figure.batch_update():\n",
    "        plot.text(text, (0.8, 0.5), paper=True, id=\"label\")\n",
    "        plot.points(state_list[:t+1,(0,1)], name=\"Red only\", id=\"Red\", \n",
    "                mode=\"markers+lines\", line_color=\"lightgray\", marker_color=\"red\")\n",
    "        plot.points(state_list[:t+1,(0,2)], name=\"Gray only\", id=\"Gray\", \n",
    "                mode=\"markers+lines\", line_color=\"lightgray\", marker_color=\"gray\")\n",
    "        plot.points(state_list[:t+1,(0,3)], name=\"Both species\", id=\"Both\", \n",
    "                mode=\"markers+lines\", line_color=\"lightgray\", marker_color=\"green\")\n",
    "        plot.points(state_list[:t+1,(0,4)], name=\"Neither species\", id=\"Neither\", \n",
    "                mode=\"markers+lines\", line_color=\"lightgray\", marker_color=\"black\")\n",
    "\n",
    "figure"
   ]
  },
  {
   "cell_type": "code",
   "execution_count": 12,
   "id": "19fa0cfb",
   "metadata": {},
   "outputs": [
    {
     "data": {
      "application/vnd.jupyter.widget-view+json": {
       "model_id": "fe29fba4703d449c97c468f97286d891",
       "version_major": 2,
       "version_minor": 0
      },
      "text/plain": [
       "interactive(children=(IntSlider(value=0, description='$t$'), Output()), _dom_classes=('widget-interact',))"
      ]
     },
     "metadata": {},
     "output_type": "display_data"
    },
    {
     "data": {
      "application/vnd.jupyter.widget-view+json": {
       "model_id": "9972c9138a1444c4bc301d6c5c449df2",
       "version_major": 2,
       "version_minor": 0
      },
      "text/plain": [
       "FigureWidget({\n",
       "    'data': [{'marker': {'color': 'red'},\n",
       "              'name': 'Red only',\n",
       "              'type…"
      ]
     },
     "metadata": {},
     "output_type": "display_data"
    }
   ],
   "source": [
    "figure, plot = pm.make_figure(widget=True)\n",
    "plot._subplot.xaxis.domain = [0, 0.7]\n",
    "plot.axes_ranges((0, 20), (0, 1))\n",
    "figure.layout.update(barmode=\"stack\")\n",
    "\n",
    "@interact(t=IntSlider(min=0, max=100, value=0, description=\"$t$\"))\n",
    "def update(t):\n",
    "    text = fr\"${label} = {latex(state_list[t,1:], round=3)}$\"\n",
    "    with figure.batch_update():\n",
    "        plot.text(text, (0.8, 0.5), paper=True, id=\"label\")\n",
    "        plot.Bar(x=state_list[:t+1,0], y=state_list[:t+1,1], name=\"Red only\", \n",
    "                id=\"Red\", marker_color=\"red\")\n",
    "        plot.Bar(x=state_list[:t+1,0], y=state_list[:t+1,2], name=\"Gray only\", \n",
    "                id=\"Gray\", marker_color=\"gray\")\n",
    "        plot.Bar(x=state_list[:t+1,0], y=state_list[:t+1,3], name=\"Both species\", \n",
    "                id=\"Both\", marker_color=\"green\")\n",
    "        plot.Bar(x=state_list[:t+1,0], y=state_list[:t+1,4], name=\"Neither species\", \n",
    "                id=\"Neither\", marker_color=\"black\")\n",
    "\n",
    "figure\n"
   ]
  },
  {
   "cell_type": "code",
   "execution_count": 13,
   "id": "2c940ca6",
   "metadata": {},
   "outputs": [
    {
     "data": {
      "text/plain": [
       "array([1.        , 0.90827656, 0.76882086, 0.81520258])"
      ]
     },
     "execution_count": 13,
     "metadata": {},
     "output_type": "execute_result"
    }
   ],
   "source": [
    "evalues, T = np.linalg.eig(M)\n",
    "evalues"
   ]
  },
  {
   "cell_type": "code",
   "execution_count": 14,
   "id": "dcac1075",
   "metadata": {},
   "outputs": [
    {
     "data": {
      "text/plain": [
       "array([0.17053042, 0.05598683, 0.34214502, 0.43133773])"
      ]
     },
     "execution_count": 14,
     "metadata": {},
     "output_type": "execute_result"
    }
   ],
   "source": [
    "stationary = T[:,0]\n",
    "stationary /= sum(stationary)\n",
    "stationary"
   ]
  },
  {
   "cell_type": "code",
   "execution_count": 15,
   "id": "0e32eaa1",
   "metadata": {},
   "outputs": [
    {
     "data": {
      "application/vnd.jupyter.widget-view+json": {
       "model_id": "1d04342a26cb4941bd9f4c833395ce5a",
       "version_major": 2,
       "version_minor": 0
      },
      "text/plain": [
       "HTMLMath(value='\\\\begin{pmatrix} 0.1705 & 0.1705 & 0.1705 & 0.1705 \\\\\\\\ 0.056 & 0.056 & 0.056 & 0.056 \\\\\\\\ 0.3…"
      ]
     },
     "metadata": {},
     "output_type": "display_data"
    }
   ],
   "source": [
    "HTMLMath(latex(np.linalg.matrix_power(M, 1000), round=4))"
   ]
  },
  {
   "cell_type": "markdown",
   "id": "6829b496",
   "metadata": {},
   "source": [
    "<br>\n",
    "<br>\n",
    "<br>\n",
    "<br>\n",
    "<br>\n",
    "\n",
    "<br>\n",
    "<br>\n",
    "<br>\n",
    "<br>\n",
    "<br>\n",
    "\n",
    "<br>\n",
    "<br>\n",
    "<br>\n",
    "<br>\n",
    "<br>\n"
   ]
  },
  {
   "cell_type": "markdown",
   "id": "76a7a446",
   "metadata": {},
   "source": [
    "# Example 3: Coin-toss battle (with absorbing states)\n",
    "\n",
    "## States: \n",
    "\n",
    "$Start$ - Start of the game, before any coin-toss\n",
    "\n",
    "$W_1$ - You won the most recent 1 coin-toss, but not the one before that\n",
    "\n",
    "$L_1$ - You lost the most recent 1 coin-toss, but not the one before that\n",
    "\n",
    "$W_2$ - You won the most recent 2 coin-tosses, but haven't won the game\n",
    "\n",
    "$L_2$ - You lost the most recent 2 coin-tosses, but haven't lost the game\n",
    "\n",
    "$Win$ - You've won the game (won three coin-tosses in a row)\n",
    "\n",
    "$Lose$ - You've lost the game (lost three coin-tosses in a row)\n"
   ]
  },
  {
   "cell_type": "code",
   "execution_count": 16,
   "id": "4ea8a6df",
   "metadata": {},
   "outputs": [
    {
     "data": {
      "application/vnd.jupyter.widget-view+json": {
       "model_id": "d8adf7ed417a48b6b68bc852fc1722ed",
       "version_major": 2,
       "version_minor": 0
      },
      "text/plain": [
       "HTMLMath(value='\\\\begin{pmatrix} 0 & 0 & 0 & 0 & 0 & 0 & 0 \\\\\\\\ 0.5 & 0 & 0.5 & 0 & 0.5 & 0 & 0 \\\\\\\\ 0.5 & 0.5…"
      ]
     },
     "metadata": {},
     "output_type": "display_data"
    }
   ],
   "source": [
    "M = np.array([\n",
    "    [0  , 0  , 0  , 0  , 0  , 0  , 0  ], # Start\n",
    "    [0.5, 0  , 0.5, 0  , 0.5, 0  , 0  ], # Won 1 round\n",
    "    [0.5, 0.5, 0  , 0.5, 0  , 0  , 0  ], # Lost 1 round\n",
    "    [0  , 0.5, 0  , 0  , 0  , 0  , 0  ], # Won 2 rounds\n",
    "    [0  , 0  , 0.5, 0  , 0  , 0  , 0  ], # Lost 2 rounds\n",
    "    [0  , 0  , 0  , 0.5, 0  , 1  , 0  ], # Won the game\n",
    "    [0  , 0  , 0  , 0  , 0.5, 0  , 1  ], # Lost the game\n",
    "])\n",
    "HTMLMath(latex(M))"
   ]
  },
  {
   "cell_type": "markdown",
   "id": "cc204cb0",
   "metadata": {},
   "source": [
    "<br>\n",
    "<br>\n",
    "<br>\n",
    "<br>\n",
    "<br>\n",
    "\n",
    "### Raising the matrix $M$ to a high power: \n",
    "\n",
    "$$ \\lim_{t \\to \\infty} M^t $$\n"
   ]
  },
  {
   "cell_type": "code",
   "execution_count": 17,
   "id": "07c19102",
   "metadata": {},
   "outputs": [
    {
     "data": {
      "application/vnd.jupyter.widget-view+json": {
       "model_id": "9b356f1f63f6476287f50d878b43c813",
       "version_major": 2,
       "version_minor": 0
      },
      "text/plain": [
       "HTMLMath(value='\\\\begin{pmatrix} 0 & 0 & 0 & 0 & 0 & 0 & 0 \\\\\\\\ 0 & 0 & 0 & 0 & 0 & 0 & 0 \\\\\\\\ 0 & 0 & 0 & 0 &…"
      ]
     },
     "metadata": {},
     "output_type": "display_data"
    }
   ],
   "source": [
    "HTMLMath(latex(np.linalg.matrix_power(M, 1000), round=4))"
   ]
  },
  {
   "cell_type": "markdown",
   "id": "a0aa98ed",
   "metadata": {},
   "source": [
    "<br>\n",
    "<br>\n",
    "<br>\n",
    "<br>\n",
    "<br>\n",
    "\n",
    "### That same result, computed using our new results: \n",
    "\n",
    "$$ \\lim_{t \\to \\infty} M^t = \\begin{pmatrix} 0 & 0 \\\\ BF & I \\end{pmatrix} $$\n",
    "\n",
    "where $F = (I - A)^{-1}$. "
   ]
  },
  {
   "cell_type": "code",
   "execution_count": 18,
   "id": "74dd0c6e",
   "metadata": {},
   "outputs": [
    {
     "data": {
      "application/vnd.jupyter.widget-view+json": {
       "model_id": "99b3f543accb4c62a57f958f69ae1f7c",
       "version_major": 2,
       "version_minor": 0
      },
      "text/plain": [
       "HTMLMath(value='$A = \\\\begin{pmatrix} 0 & 0 & 0 & 0 & 0 \\\\\\\\ 0.5 & 0 & 0.5 & 0 & 0.5 \\\\\\\\ 0.5 & 0.5 & 0 & 0.5 …"
      ]
     },
     "metadata": {},
     "output_type": "display_data"
    }
   ],
   "source": [
    "A = M[:5,:5]\n",
    "HTMLMath(f\"$A = {latex(A)}$\")"
   ]
  },
  {
   "cell_type": "code",
   "execution_count": 19,
   "id": "063acf11",
   "metadata": {},
   "outputs": [
    {
     "data": {
      "application/vnd.jupyter.widget-view+json": {
       "model_id": "321c9369cf324bdb907bad2ef5a7a57d",
       "version_major": 2,
       "version_minor": 0
      },
      "text/plain": [
       "HTMLMath(value='$B = \\\\begin{pmatrix} 0 & 0 & 0 & 0.5 & 0 \\\\\\\\ 0 & 0 & 0 & 0 & 0.5 \\\\end{pmatrix}$')"
      ]
     },
     "metadata": {},
     "output_type": "display_data"
    }
   ],
   "source": [
    "B = M[5:,:5]\n",
    "HTMLMath(f\"$B = {latex(B)}$\")"
   ]
  },
  {
   "cell_type": "code",
   "execution_count": 20,
   "id": "40192799",
   "metadata": {},
   "outputs": [
    {
     "data": {
      "application/vnd.jupyter.widget-view+json": {
       "model_id": "e381fc22905f4e8cbfa84193b722ad84",
       "version_major": 2,
       "version_minor": 0
      },
      "text/plain": [
       "HTMLMath(value='$F = \\\\begin{pmatrix} 1 & 0 & 0 & 0 & 0 \\\\\\\\ 2 & 2.2857 & 1.7143 & 0.8571 & 1.1429 \\\\\\\\ 2 & 1.…"
      ]
     },
     "metadata": {},
     "output_type": "display_data"
    }
   ],
   "source": [
    "F = np.linalg.inv(np.eye(5) - A)\n",
    "HTMLMath(f\"$F = {latex(F, round=4)}$\")"
   ]
  },
  {
   "cell_type": "code",
   "execution_count": 21,
   "id": "f4b7dc7f",
   "metadata": {},
   "outputs": [
    {
     "data": {
      "application/vnd.jupyter.widget-view+json": {
       "model_id": "6ab688f76f654da4830997af9d591bf2",
       "version_major": 2,
       "version_minor": 0
      },
      "text/plain": [
       "HTMLMath(value='$BF = \\\\begin{pmatrix} 0.5 & 0.5714 & 0.4286 & 0.7143 & 0.2857 \\\\\\\\ 0.5 & 0.4286 & 0.5714 & 0.…"
      ]
     },
     "metadata": {},
     "output_type": "display_data"
    }
   ],
   "source": [
    "HTMLMath(f\"$BF = {latex(B @ F, round=4)}$\")"
   ]
  },
  {
   "cell_type": "code",
   "execution_count": 22,
   "id": "e952e56e",
   "metadata": {},
   "outputs": [
    {
     "data": {
      "application/vnd.jupyter.widget-view+json": {
       "model_id": "5ae847b1c2744e95bb2b42f65eec3970",
       "version_major": 2,
       "version_minor": 0
      },
      "text/plain": [
       "HTMLMath(value='\\\\begin{pmatrix} 0.5 & 0.5714 & 0.4286 & 0.7143 & 0.2857 \\\\\\\\ 0.5 & 0.4286 & 0.5714 & 0.2857 &…"
      ]
     },
     "metadata": {},
     "output_type": "display_data"
    }
   ],
   "source": [
    "HTMLMath(latex(np.linalg.matrix_power(M, 1000)[5:,:5], round=4))"
   ]
  },
  {
   "cell_type": "markdown",
   "id": "4516352b",
   "metadata": {},
   "source": [
    "<br>\n",
    "<br>\n",
    "<br>\n",
    "<br>\n",
    "<br>\n",
    "\n",
    "### Simulating the game\n"
   ]
  },
  {
   "cell_type": "code",
   "execution_count": 23,
   "id": "e210ddab",
   "metadata": {},
   "outputs": [],
   "source": [
    "def simulate():\n",
    "    turns = 0\n",
    "    # wins counts the number of consecutive wins (positive) or losses (negative)\n",
    "    # So wins ==  0 means (Start)\n",
    "    # So wins ==  1 means (W1)\n",
    "    # So wins == -1 means (L1)\n",
    "    # So wins ==  2 means (W2)\n",
    "    # So wins == -2 means (L2)\n",
    "    # So wins ==  3 means (Win)\n",
    "    # So wins == -3 means (Lose)\n",
    "    wins = 0\n",
    "    while abs(wins) < 3:\n",
    "        # toss is 1 if we won that round, -1 if we lost that round\n",
    "        toss = np.random.randint(0, 2) * 2 - 1\n",
    "        #print(\"W\" if toss == 1 else \"L\")\n",
    "        wins = toss if wins * toss <= 0 else wins + toss\n",
    "        turns += 1\n",
    "    return bool(wins > 0), turns\n"
   ]
  },
  {
   "cell_type": "code",
   "execution_count": 24,
   "id": "d86c529b",
   "metadata": {},
   "outputs": [
    {
     "data": {
      "text/plain": [
       "7.044"
      ]
     },
     "execution_count": 24,
     "metadata": {},
     "output_type": "execute_result"
    }
   ],
   "source": [
    "# Run many simulations, and collect the number of turns for each simulation into an array\n",
    "results = np.zeros((10000,), dtype=int)\n",
    "for i in range(10000):\n",
    "    win, turns = simulate()\n",
    "    results[i] = turns\n",
    "\n",
    "# Compute the average number of turns required\n",
    "results.mean()"
   ]
  },
  {
   "cell_type": "markdown",
   "id": "faae0a6c",
   "metadata": {},
   "source": [
    "<br>\n",
    "<br>\n",
    "<br>\n",
    "<br>\n",
    "<br>\n",
    "\n",
    "<br>\n",
    "<br>\n",
    "<br>\n",
    "<br>\n",
    "<br>\n",
    "\n",
    "<br>\n",
    "<br>\n",
    "<br>\n",
    "<br>\n",
    "<br>\n"
   ]
  },
  {
   "cell_type": "code",
   "execution_count": null,
   "id": "57a8d202",
   "metadata": {},
   "outputs": [],
   "source": []
  }
 ],
 "metadata": {
  "hide_input": false,
  "kernelspec": {
   "display_name": "Python 3 (ipykernel)",
   "language": "python",
   "name": "python3"
  },
  "language_info": {
   "codemirror_mode": {
    "name": "ipython",
    "version": 3
   },
   "file_extension": ".py",
   "mimetype": "text/x-python",
   "name": "python",
   "nbconvert_exporter": "python",
   "pygments_lexer": "ipython3",
   "version": "3.9.2"
  }
 },
 "nbformat": 4,
 "nbformat_minor": 5
}
