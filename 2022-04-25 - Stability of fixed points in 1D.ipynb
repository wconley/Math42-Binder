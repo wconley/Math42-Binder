{
 "cells": [
  {
   "cell_type": "code",
   "execution_count": 1,
   "metadata": {},
   "outputs": [],
   "source": [
    "import numpy as np\n",
    "import plotlymath as pm\n",
    "\n",
    "from ipywidgets import FloatSlider, IntSlider\n",
    "from myutils import interact"
   ]
  },
  {
   "cell_type": "code",
   "execution_count": 2,
   "metadata": {},
   "outputs": [],
   "source": [
    "pm.set_defaults(margin=(20, 10, 40, 40))\n",
    "colors = pm.plotly.colors.DEFAULT_PLOTLY_COLORS\n",
    "\n",
    "def stability_color(evalues):\n",
    "    dominant = np.abs(evalues).max()\n",
    "    return \"darkgreen\" if dominant < 1 else \"darkred\" if dominant > 1 else \"gray\"\n"
   ]
  },
  {
   "cell_type": "markdown",
   "metadata": {},
   "source": [
    "<br>\n",
    "<br>\n",
    "<br>\n",
    "<br>\n",
    "<br>\n",
    "\n",
    "<br>\n",
    "<br>\n",
    "<br>\n",
    "<br>\n",
    "<br>\n",
    "\n",
    "<br>\n",
    "<br>\n",
    "<br>\n",
    "<br>\n",
    "<br>\n"
   ]
  },
  {
   "cell_type": "markdown",
   "metadata": {},
   "source": [
    "# Example: The (discrete-time) *logistic model*\n",
    "\n",
    "Recall that this model is defined by \n",
    "$$ x(t+1) = x(t) + R x(t) \\left( 1 - \\frac{x(t)}{K} \\right) $$\n"
   ]
  },
  {
   "cell_type": "code",
   "execution_count": 3,
   "metadata": {},
   "outputs": [],
   "source": [
    "def discrete_logistic_interactive():\n",
    "    K = 100\n",
    "    figure, plot = pm.make_figure(widget=True)\n",
    "    plot.axes_ranges((0, 40), (0, 150))\n",
    "    plot.axes_labels(r\"$t \\text{(time)}$\", r\"$x \\text{(population)}$\")\n",
    "    plot.lines(((0, 0), (501, 0)), name=\"Fixed points\", \n",
    "            legendgroup=\"fp\", line_dash=\"dash\", line_width=3, id=\"zero\")\n",
    "    plot.lines(((0, K), (501, K)), name=\"Fixed points\", \n",
    "            legendgroup=\"fp\", line_dash=\"dash\", line_width=3, id=\"carrycap\")\n",
    "\n",
    "    @interact(R=FloatSlider(min=-1, max=3, value=0.1), \n",
    "              initial_state=IntSlider(min=0, max=100, value=10))\n",
    "    def update(R, initial_state):\n",
    "        def f(x):\n",
    "            return x + R*x*(1 - x/K)\n",
    "        state_list = [(0, initial_state)]\n",
    "        for t in range(1, 501):\n",
    "            next_state = f(state_list[-1][1])\n",
    "            state_list.append((t, next_state))\n",
    "        with figure.batch_update():\n",
    "            plot[\"zero\"].update(line_color=stability_color([1 + R]))\n",
    "            plot[\"carrycap\"].update(line_color=stability_color([1 - R]))\n",
    "            plot.lines(state_list, color=\"lightgray\", name=\"Connect\", id=\"lines\")\n",
    "            plot.points(state_list, color=colors[0], showlegend=False, id=\"points\")\n",
    "    update(0.1, 10)\n",
    "    plot[\"zero\"].update(visible=\"legendonly\")\n",
    "    plot[\"carrycap\"].update(visible=\"legendonly\")\n",
    "    plot[\"lines\"].update(visible=\"legendonly\")\n",
    "\n",
    "    return figure\n"
   ]
  },
  {
   "cell_type": "code",
   "execution_count": 4,
   "metadata": {},
   "outputs": [
    {
     "data": {
      "application/vnd.jupyter.widget-view+json": {
       "model_id": "e71bb8e811b44966aa98b50fbf8380eb",
       "version_major": 2,
       "version_minor": 0
      },
      "text/plain": [
       "interactive(children=(FloatSlider(value=0.1, description='R', max=3.0, min=-1.0), IntSlider(value=10, descript…"
      ]
     },
     "metadata": {},
     "output_type": "display_data"
    },
    {
     "data": {
      "application/vnd.jupyter.widget-view+json": {
       "model_id": "f4a29af1646e49c39c12af2b88cde35a",
       "version_major": 2,
       "version_minor": 0
      },
      "text/plain": [
       "FigureWidget({\n",
       "    'data': [{'legendgroup': 'fp',\n",
       "              'line': {'color': 'darkred', 'dash': 'dash', '…"
      ]
     },
     "metadata": {},
     "output_type": "display_data"
    }
   ],
   "source": [
    "discrete_logistic_interactive()"
   ]
  },
  {
   "cell_type": "code",
   "execution_count": null,
   "metadata": {},
   "outputs": [],
   "source": []
  }
 ],
 "metadata": {
  "hide_input": false,
  "kernelspec": {
   "display_name": "Python 3 (ipykernel)",
   "language": "python",
   "name": "python3"
  },
  "language_info": {
   "codemirror_mode": {
    "name": "ipython",
    "version": 3
   },
   "file_extension": ".py",
   "mimetype": "text/x-python",
   "name": "python",
   "nbconvert_exporter": "python",
   "pygments_lexer": "ipython3",
   "version": "3.9.2"
  }
 },
 "nbformat": 4,
 "nbformat_minor": 4
}
