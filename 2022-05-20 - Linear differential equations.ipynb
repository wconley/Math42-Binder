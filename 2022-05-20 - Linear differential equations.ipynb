{
 "cells": [
  {
   "cell_type": "code",
   "execution_count": 2,
   "id": "e915a710",
   "metadata": {},
   "outputs": [],
   "source": [
    "from itertools import cycle\n",
    "import numpy as np\n",
    "from scipy.integrate import solve_ivp\n",
    "from ipywidgets import Button, VBox, HTMLMath\n",
    "\n",
    "import plotlymath as pm\n",
    "from myutils import interact, latex\n"
   ]
  },
  {
   "cell_type": "code",
   "execution_count": 3,
   "id": "8b9cfa31",
   "metadata": {},
   "outputs": [],
   "source": [
    "pm.set_defaults(margins=(40))\n",
    "colors = pm.plotly.colors.DEFAULT_PLOTLY_COLORS"
   ]
  },
  {
   "cell_type": "code",
   "execution_count": 4,
   "id": "d74bb2bd",
   "metadata": {},
   "outputs": [],
   "source": [
    "def stability_text(jacobian):\n",
    "    trace = np.trace(jacobian)\n",
    "    det = np.linalg.det(jacobian)\n",
    "    if det < 0:\n",
    "        return \"Saddle point\"\n",
    "    if trace == 0 or det == 0:\n",
    "        return \"Unknown\"\n",
    "    if trace**2 - 4*det < 0:\n",
    "        return \"Stable spiral\" if trace < 0 else \"Unstable spiral\"\n",
    "    return \"Sink\" if trace < 0 else \"Source\"\n",
    "\n",
    "def stability_color(jacobian):\n",
    "    trace = np.trace(jacobian)\n",
    "    det = np.linalg.det(jacobian)\n",
    "    if det < 0:\n",
    "        return \"darkorange\"\n",
    "    if trace == 0 or det == 0:\n",
    "        return \"gray\"\n",
    "    return \"darkgreen\" if trace < 0 else \"darkred\"\n",
    "\n",
    "def clickable_phase_portrait(f, xrange, yrange, tmax, **options):\n",
    "    axes_labels = options.get(\"axes_labels\", (r\"$x$\", r\"$y$\"))\n",
    "    fixed_points = options.get(\"fixed_points\", ())\n",
    "    jacobian = options.get(\"jacobian\", None)\n",
    "    fixed_points_color = [stability_color(jacobian(0, pt)) \n",
    "            for pt in fixed_points] if jacobian else \"black\"\n",
    "    fixed_points_color = options.get(\"fixed_points_color\", fixed_points_color)\n",
    "    fixed_points_text = [stability_text(jacobian(0, pt)) \n",
    "            for pt in fixed_points] if jacobian else \"\"\n",
    "    vector_field_color = options.get(\"vector_field_color\", \"limegreen\")\n",
    "    vector_field_opacity = options.get(\"vector_field_opacity\", 0.6)\n",
    "    colors = options.get(\"colors\", pm.plotly.colors.DEFAULT_PLOTLY_COLORS)\n",
    "\n",
    "    figure, plot = pm.make_figure(widget=True)\n",
    "    figure.layout.hovermode = \"closest\"\n",
    "    figure.layout.update(width=750, height=500)\n",
    "    plot.axes_labels(*axes_labels)\n",
    "    plot.axes_ranges(xrange, yrange)\n",
    "    xmin, xmax = xrange\n",
    "    ymin, ymax = yrange\n",
    "    x = np.linspace(xmin, xmax, 51)\n",
    "    y = np.linspace(ymin, ymax, 51)\n",
    "    xy = np.moveaxis(np.meshgrid(x, y), 0, 2).reshape(-1, 2)\n",
    "    plot.points(xy, size=15, opacity=0, hoverinfo=\"none\", showlegend=False, id=\"grid\")\n",
    "\n",
    "    if vector_field_color:\n",
    "        plot.vector_field(lambda x, y: f(0, (x, y)), xrange, yrange, \n",
    "                color=vector_field_color, opacity=vector_field_opacity, \n",
    "                name=\"Vector field\", visible=\"legendonly\", hoverinfo=\"skip\")\n",
    "    if fixed_points:\n",
    "        plot.points(fixed_points, color=fixed_points_color, size=10, \n",
    "                name=\"Fixed points\", visible=\"legendonly\", hoverinfo=\"x+y+text\", \n",
    "                hovertext=fixed_points_text)\n",
    "\n",
    "    color = cycle(colors)\n",
    "    options = dict(hoverinfo=\"skip\", showlegend=False, id=\"solutions[]\")\n",
    "    solve_options = dict(method=\"RK45\", dense_output=True)\n",
    "    #if jacobian:\n",
    "    #    solve_options[\"jac\"] = jacobian\n",
    "    def click_handler(trace, points, state):\n",
    "        if not (points.xs and points.ys):\n",
    "            return\n",
    "        initial_state = (points.xs[0], points.ys[0])\n",
    "        solution = solve_ivp(f, (0, tmax), initial_state, **solve_options)\n",
    "        plot.parametric(solution.sol, (0, tmax), color=next(color), **options)\n",
    "    plot[\"grid\"].on_click(click_handler)\n",
    "\n",
    "    def clear_figure(widget):\n",
    "        nonlocal color\n",
    "        color = cycle(colors)\n",
    "        with figure.batch_update():\n",
    "            try:\n",
    "                del plot[\"solutions[]\"]\n",
    "            except KeyError:\n",
    "                pass\n",
    "    clear_button = Button(description=\"Clear\")\n",
    "    clear_button.on_click(clear_figure)\n",
    "\n",
    "    return VBox((clear_button, figure))\n"
   ]
  },
  {
   "cell_type": "code",
   "execution_count": 9,
   "id": "9296659a",
   "metadata": {},
   "outputs": [],
   "source": [
    "def linear_phase_portrait(A):\n",
    "    def f(t, state): return A @ state\n",
    "    def jacobian(t, state): return A\n",
    "    vbox = clickable_phase_portrait(f, (-10, 10), (-10, 10), 50, jacobian=jacobian)\n",
    "    figure = vbox.children[1]\n",
    "    plot = pm.PlotlyAxes(figure, {}, 1, 1)\n",
    "    plot.axes_ranges((-10, 10), (-10, 10), scale=(1, 1))\n",
    "    evalues, S = np.linalg.eig(A)\n",
    "    if evalues[0].imag == 0:\n",
    "        for evalue, evector, show in zip(evalues, S.transpose(), (True, False)):\n",
    "            color = \"darkgreen\" if evalue < 0 else \"darkred\" if evalue > 0 else \"gray\"\n",
    "            plot.lines((-15*evector, 15*evector), color=color, line_width=3, \n",
    "                    opacity=0.5, hoverinfo=\"skip\", name=\"Eigenvectors\", \n",
    "                    visible=\"legendonly\", showlegend=show, legendgroup=\"evecs\")\n",
    "            plot.points((9*evector,), mode=\"text\", text=fr\"$\\lambda = {evalue:.2f}$\", \n",
    "                    textfont_size=14, hoverinfo=\"skip\", \n",
    "                    visible=\"legendonly\", showlegend=False, legendgroup=\"evecs\")\n",
    "    else:\n",
    "        evector = S[:,0]\n",
    "        # Choose an eigenvector whose real and imag parts are perpendicular\n",
    "        z = evector @ evector\n",
    "        if z.imag != 0: # If this is 0, they already are perpendicular\n",
    "            evector = S[:,1] * (z + abs(z)) / abs(z + abs(z))\n",
    "        evec1, evec2 = evector.real, evector.imag\n",
    "        evalue = round(evalues[0].real, 8)\n",
    "        color = \"darkgreen\" if evalue < 0 else \"darkred\" if evalue > 0 else \"gray\"\n",
    "        evalue = fr\"$\\lambda = {latex(evalues[0], round=2, conjpair=True)}$\"\n",
    "        plot.lines((8*evec1, 0*evec1, 8*evec2), color=color, line_width=3, \n",
    "                opacity=0.5, hoverinfo=\"skip\", name=\"Eigenvectors\", \n",
    "                visible=\"legendonly\", legendgroup=\"evecs\")\n",
    "        plot.points((9*evec2,), mode=\"text\", text=evalue, \n",
    "                textfont_size=14, hoverinfo=\"skip\", \n",
    "                visible=\"legendonly\", showlegend=False, legendgroup=\"evecs\")\n",
    "    return vbox\n"
   ]
  },
  {
   "cell_type": "markdown",
   "id": "a909a08b",
   "metadata": {},
   "source": [
    "# The function `linear_phase_portrait`\n",
    "\n",
    "You can pass this function any $2 \\times 2$ matrix $A$, and it will show you the vector field of the differential equation \n",
    "$$ \\vec{x}\\,' = A \\vec{x} $$\n",
    "You can click anywhere in the state space, and it will plot the solution of this differential equation that starts from that point. \n",
    "\n",
    "It will also show the eigenlines and eigenvalues of $A$. (If the eigenvalues are non-real, it will show the real and imaginary parts of the corresponding eigenvector, which form the major and minor radii of the ellipse that the solutions rotate around.) Note that you can toggle on/off the display of the vector field and the eigenlines by clicking their labels in the legend. \n"
   ]
  },
  {
   "cell_type": "code",
   "execution_count": 12,
   "id": "4e213381",
   "metadata": {},
   "outputs": [
    {
     "data": {
      "application/vnd.jupyter.widget-view+json": {
       "model_id": "79023e6d9ccb47f4a94102c92fcb37c7",
       "version_major": 2,
       "version_minor": 0
      },
      "text/plain": [
       "VBox(children=(Button(description='Clear', style=ButtonStyle()), FigureWidget({\n",
       "    'data': [{'hoverinfo': 'no…"
      ]
     },
     "metadata": {},
     "output_type": "display_data"
    }
   ],
   "source": [
    "A = np.array((\n",
    "    ( 1,  3), \n",
    "    (-2,  0), \n",
    "))\n",
    "linear_phase_portrait(A)"
   ]
  },
  {
   "cell_type": "code",
   "execution_count": 62,
   "id": "42bd3709",
   "metadata": {},
   "outputs": [
    {
     "data": {
      "application/vnd.jupyter.widget-view+json": {
       "model_id": "d50d0a41cb1a4145a1c3429043a70c7e",
       "version_major": 2,
       "version_minor": 0
      },
      "text/plain": [
       "HTMLMath(value='\\\\begin{pmatrix} -1 & 3 \\\\\\\\ -2 & 0 \\\\end{pmatrix}')"
      ]
     },
     "metadata": {},
     "output_type": "display_data"
    },
    {
     "data": {
      "application/vnd.jupyter.widget-view+json": {
       "model_id": "f1c06130c3474d24b07254a640ec39c9",
       "version_major": 2,
       "version_minor": 0
      },
      "text/plain": [
       "HTMLMath(value='Eigenvalue $-0.5 + 2.4i$ with eigenvector $\\\\begin{bmatrix} 0.77 \\\\\\\\ 0.13 + 0.62i \\\\end{bmatr…"
      ]
     },
     "metadata": {},
     "output_type": "display_data"
    },
    {
     "data": {
      "application/vnd.jupyter.widget-view+json": {
       "model_id": "05286e8899554369ad223071c3a459e8",
       "version_major": 2,
       "version_minor": 0
      },
      "text/plain": [
       "HTMLMath(value='Eigenvalue $-0.5 - 2.4i$ with eigenvector $\\\\begin{bmatrix} 0.77 \\\\\\\\ 0.13 - 0.62i \\\\end{bmatr…"
      ]
     },
     "metadata": {},
     "output_type": "display_data"
    }
   ],
   "source": [
    "display(HTMLMath(latex(A)))\n",
    "evalues, S = np.linalg.eig(A)\n",
    "for evalue, evector in zip(evalues, S.transpose()):\n",
    "    evalue = latex(evalue, round=2)\n",
    "    evector = latex(evector, round=2)\n",
    "    display(HTMLMath(f\"Eigenvalue ${evalue}$ with eigenvector ${evector}$\"))\n"
   ]
  },
  {
   "cell_type": "code",
   "execution_count": null,
   "id": "a7ad9ab5",
   "metadata": {},
   "outputs": [],
   "source": []
  }
 ],
 "metadata": {
  "hide_input": false,
  "kernelspec": {
   "display_name": "Python 3 (ipykernel)",
   "language": "python",
   "name": "python3"
  },
  "language_info": {
   "codemirror_mode": {
    "name": "ipython",
    "version": 3
   },
   "file_extension": ".py",
   "mimetype": "text/x-python",
   "name": "python",
   "nbconvert_exporter": "python",
   "pygments_lexer": "ipython3",
   "version": "3.9.2"
  }
 },
 "nbformat": 4,
 "nbformat_minor": 5
}
