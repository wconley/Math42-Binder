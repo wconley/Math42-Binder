{
 "cells": [
  {
   "cell_type": "code",
   "execution_count": 1,
   "metadata": {},
   "outputs": [],
   "source": [
    "import numpy as np\n",
    "from ipywidgets import IntSlider\n",
    "\n",
    "import plotlymath as plt\n",
    "from myutils import interact, latex\n"
   ]
  },
  {
   "cell_type": "code",
   "execution_count": 2,
   "metadata": {},
   "outputs": [],
   "source": [
    "plt.set_defaults(margin=(25,0,40,50))\n",
    "colors = plt.plotly.colors.DEFAULT_PLOTLY_COLORS"
   ]
  },
  {
   "cell_type": "code",
   "execution_count": 3,
   "metadata": {},
   "outputs": [],
   "source": [
    "def timeseries_interactive(A, initial_state, **options):\n",
    "    max_steps = options.get(\"max_steps\", 30)\n",
    "    x, y = options.get(\"state_vars\", (\"x\", \"y\"))\n",
    "    xname, yname = options.get(\"var_names\", (\"$x$\", \"$y$\"))\n",
    "    solution = [initial_state]\n",
    "    for n in range(max_steps):\n",
    "        solution.append(A @ solution[-1])\n",
    "    solution = np.insert(solution, 0, np.arange(max_steps + 1), axis=1)\n",
    "\n",
    "    figure, plot = plt.make_figure(widget=True)\n",
    "    figure.layout.update(width=750, height=400)\n",
    "    figure.layout.xaxis.domain = (0, 0.85)\n",
    "    plot.axes_labels(r\"$n \\text{ (time)}$\", \"Populations\")\n",
    "    plot.axes_ranges((0, max_steps + 1), (0, solution.max() * 1.05))\n",
    "\n",
    "    @interact(n=IntSlider(min=0, max=max_steps, value=0, description=\"$n$\"))\n",
    "    def update(n):\n",
    "        label = latex((f\"{x}({n})\", f\"{y}({n})\"))\n",
    "        label += f\" = {latex(solution[n,(1,2)], round=1)}\"\n",
    "        with figure.batch_update():\n",
    "            plot.x_series = plt.points(solution[:n+1,(0,1)], name=xname, \n",
    "                    mode=\"markers+lines\", color=colors[0], line_color=\"lightgray\")\n",
    "            plot.y_series = plt.points(solution[:n+1,(0,2)], name=yname, \n",
    "                    mode=\"markers+lines\", color=colors[1], line_color=\"lightgray\")\n",
    "            plot.label = plt.text(f\"${label}$\", (0.87, 0.5), paper=True, font_size=24)\n",
    "\n",
    "    return figure\n"
   ]
  },
  {
   "cell_type": "code",
   "execution_count": 4,
   "metadata": {},
   "outputs": [],
   "source": [
    "def statespace_interactive(A, initial_states, **options):\n",
    "    max_steps = options.get(\"max_steps\", 30)\n",
    "    xymax = options.get(\"xymax\", None)\n",
    "    x, y = options.get(\"state_vars\", (\"x\", \"y\"))\n",
    "    xname, yname = options.get(\"var_names\", (\"$x$\", \"$y$\"))\n",
    "    mode = \"markers+lines\" if options.get(\"connect\", True) else \"markers\"\n",
    "    solutions = {name: [state] for name, state in initial_states.items()}\n",
    "    for solution in solutions.values():\n",
    "        for t in range(max_steps):\n",
    "            solution.append(A @ solution[-1])\n",
    "    if xymax is None:\n",
    "        xymax = np.array(list(solutions.values())).max() * 1.05\n",
    "\n",
    "    figure, plot = plt.make_figure(widget=True)\n",
    "    figure.layout.update(width=750, height=600)\n",
    "    figure.layout.xaxis.domain = (0, 0.75)\n",
    "    plot.axes_labels(fr\"${x} \\text{{ ({xname})}}$\", fr\"${y} \\text{{ ({yname})}}$\")\n",
    "    plot.axes_ranges((0, xymax), (0, xymax), scale=(1, 1))\n",
    "    evalues, T = np.linalg.eig(A)\n",
    "    eigenlines = []\n",
    "    for evalue, evector in zip(evalues, T.transpose()):\n",
    "        eigenline = np.array([evector * -2*xymax, evector * 2*xymax])\n",
    "        color = \"darkred\" if abs(evalue) > 1 else \"darkgreen\"\n",
    "        eigenlines.append(plt.lines(eigenline, color=color, opacity=0.6, line_width=4, \n",
    "                name=\"Eigenline\", legendgroup=\"eigenlines\", visible=\"legendonly\"))\n",
    "\n",
    "    controls = {name: IntSlider(min=0, max=max_steps, value=0) for name in solutions}\n",
    "    @interact(**controls)\n",
    "    def update(**controls):\n",
    "        with figure.batch_update():\n",
    "            for i, (name, solution) in enumerate(solutions.items()):\n",
    "                n = controls[name]\n",
    "                label = latex((f\"{x}({n})\", f\"{y}({n})\"))\n",
    "                label += f\" = {latex(solution[n], round=1)}\"\n",
    "                setattr(plot, f\"{name}points\", plt.points(solution[:n+1], color=colors[i], \n",
    "                        mode=mode, line_color=\"lightgray\", showlegend=False))\n",
    "                setattr(plot, f\"{name}label\", plt.text(f\"${label}$\", (0.77, 0.85-0.2*i), \n",
    "                        color=colors[i], paper=True, size=24))\n",
    "\n",
    "    update(**{name: 0 for name in solutions})\n",
    "    if options.get(\"show_eigenlines\", False):\n",
    "        plot.eigenlines = eigenlines\n",
    "    return figure\n"
   ]
  },
  {
   "cell_type": "code",
   "execution_count": 5,
   "metadata": {},
   "outputs": [],
   "source": [
    "def complex_interactive(A):\n",
    "    max_steps = 50\n",
    "    solution = [np.array((10, 10), dtype=float)]\n",
    "    for t in range(max_steps):\n",
    "        solution.append(A @ solution[-1])\n",
    "\n",
    "    figure, plot = plt.make_figure(widget=True)\n",
    "    figure.layout.update(width=750, height=600)\n",
    "    figure.layout.xaxis.domain = (0, 0.75)\n",
    "    plot.axes_labels(r\"$x$\", r\"$y$\")\n",
    "    plot.axes_ranges((-20, 20), (-20, 20), scale=(1, 1))\n",
    "    options = dict(paper=True, font_size=24)\n",
    "    evalues, evectors = np.linalg.eig(A)\n",
    "    plot.matrix = plt.text(f\"${latex(A, round=2)}$\", (0.77, 0.95), **options)\n",
    "    plot.label = plt.text(r\"$\\text{Eigenvalues:}$\", (0.77, 0.8), **options)\n",
    "    label = latex(evalues[0], round=3, conjpair=True)\n",
    "    plot.eigen = plt.text(fr\"$\\lambda = {label}$\", (0.77, 0.75), **options)\n",
    "    label = latex(abs(evalues[0]), round=3)\n",
    "    plot.abs = plt.text(fr\"$\\lvert \\lambda \\rvert = {label}$\", (0.77, 0.7), **options)\n",
    "\n",
    "    @interact(t=IntSlider(min=0, max=max_steps, value=0, description=\"$t$\"))\n",
    "    def update(t):\n",
    "        with figure.batch_update():\n",
    "            plot.solution = plt.points(solution[:t+1], color=colors[0], \n",
    "                    mode=\"markers+lines\", line_color=\"lightgray\")\n",
    "\n",
    "    return figure\n"
   ]
  },
  {
   "cell_type": "markdown",
   "metadata": {
    "slideshow": {
     "slide_type": "subslide"
    }
   },
   "source": [
    "# A two-stage black bear population model\n",
    "\n",
    "**Assumptions:** \n",
    "- The population is subdivided into two life stages: juveniles ($J$) and adults ($A$). \n",
    "- Each year, on average, $42\\%$ of adults give birth to a cub. \n",
    "- Each year, $24\\%$ of juveniles reach adulthood. \n",
    "- Each year, $15\\%$ of adult bears die, and $29\\%$ of juvenile bears die. \n",
    "\n",
    "**Resulting model:** \n",
    "\n",
    "<!-- $$ \\begin{bmatrix} J(n+1) \\\\ A(n+1) \\end{bmatrix} = \\begin{bmatrix} 0.47 J(n) + 0.42 A(n) \\\\ 0.24 J(n) + 0.85 A(n) \\end{bmatrix} $$ -->\n",
    "$$ \\begin{cases} J(n+1) = 0.47 J(n) + 0.42 A(n) \\\\ A(n+1) = 0.24 J(n) + 0.85 A(n) \\end{cases} $$\n",
    "or, in matrix form: \n",
    "$$ \\begin{bmatrix} J(n+1) \\\\ A(n+1) \\end{bmatrix} = \\begin{pmatrix} 0.47 & 0.42 \\\\ 0.24 & 0.85 \\end{pmatrix} \\begin{bmatrix} J(n) \\\\ A(n) \\end{bmatrix} $$\n"
   ]
  },
  {
   "cell_type": "code",
   "execution_count": 6,
   "metadata": {},
   "outputs": [
    {
     "data": {
      "application/vnd.jupyter.widget-view+json": {
       "model_id": "8e81ea76b46e48e2940d9ee42d0de384",
       "version_major": 2,
       "version_minor": 0
      },
      "text/plain": [
       "interactive(children=(IntSlider(value=0, description='$n$', max=30), Output()), _dom_classes=('widget-interact…"
      ]
     },
     "metadata": {},
     "output_type": "display_data"
    },
    {
     "data": {
      "application/vnd.jupyter.widget-view+json": {
       "model_id": "54e31557463244fb80a3e2ad9b287883",
       "version_major": 2,
       "version_minor": 0
      },
      "text/plain": [
       "FigureWidget({\n",
       "    'data': [{'line': {'color': 'lightgray'},\n",
       "              'marker': {'color': 'rgb(31, 119, 1…"
      ]
     },
     "metadata": {},
     "output_type": "display_data"
    }
   ],
   "source": [
    "A = np.array(((0.47, 0.42), (0.24, 0.85)))\n",
    "options = dict(state_vars=(\"J\", \"A\"), var_names=(\"Juveniles\", \"Adults\"))\n",
    "\n",
    "timeseries_interactive(A, (500, 250), **options)"
   ]
  },
  {
   "cell_type": "code",
   "execution_count": 7,
   "metadata": {},
   "outputs": [
    {
     "data": {
      "application/vnd.jupyter.widget-view+json": {
       "model_id": "6cd54b6ae8ed45d299a4d264426bcc30",
       "version_major": 2,
       "version_minor": 0
      },
      "text/plain": [
       "interactive(children=(IntSlider(value=0, description='$n$', max=30), Output()), _dom_classes=('widget-interact…"
      ]
     },
     "metadata": {},
     "output_type": "display_data"
    },
    {
     "data": {
      "application/vnd.jupyter.widget-view+json": {
       "model_id": "3bfdc812b4254f088b823de6fbee9d63",
       "version_major": 2,
       "version_minor": 0
      },
      "text/plain": [
       "FigureWidget({\n",
       "    'data': [{'line': {'color': 'lightgray'},\n",
       "              'marker': {'color': 'rgb(31, 119, 1…"
      ]
     },
     "metadata": {},
     "output_type": "display_data"
    }
   ],
   "source": [
    "statespace_interactive(A, {\"$n$\": (500, 250)}, connect=False, **options)"
   ]
  },
  {
   "cell_type": "code",
   "execution_count": 8,
   "metadata": {},
   "outputs": [
    {
     "data": {
      "application/vnd.jupyter.widget-view+json": {
       "model_id": "1a7dd7fd838c429b966f916d9af40240",
       "version_major": 2,
       "version_minor": 0
      },
      "text/plain": [
       "interactive(children=(IntSlider(value=0, description='blue', max=30), IntSlider(value=0, description='orange',…"
      ]
     },
     "metadata": {},
     "output_type": "display_data"
    },
    {
     "data": {
      "application/vnd.jupyter.widget-view+json": {
       "model_id": "69aabf3c50504cd5a23e3e02269b8823",
       "version_major": 2,
       "version_minor": 0
      },
      "text/plain": [
       "FigureWidget({\n",
       "    'data': [{'line': {'color': 'lightgray'},\n",
       "              'marker': {'color': 'rgb(31, 119, 1…"
      ]
     },
     "metadata": {},
     "output_type": "display_data"
    }
   ],
   "source": [
    "initial_states = {\n",
    "    \"blue\":   (500, 250), \n",
    "    \"orange\": (500,  50), \n",
    "    \"green\":  (150, 500), \n",
    "    \"red\":    ( 50, 700), \n",
    "}\n",
    "statespace_interactive(A, initial_states, xymax=850, show_eigenlines=True, **options)"
   ]
  },
  {
   "cell_type": "code",
   "execution_count": 9,
   "metadata": {},
   "outputs": [
    {
     "name": "stdout",
     "output_type": "stream",
     "text": [
      "Eigenvalue λ = 0.29 with eigenvector (4.5957, -1.9696)\n",
      "Eigenvalue λ = 1.03 with eigenvector (3.0, 4.0)\n"
     ]
    }
   ],
   "source": [
    "evalues, T = np.linalg.eig(A)\n",
    "for evalue, evector in zip(evalues, T.transpose()):\n",
    "    vector = np.round(-5*evector, 4)\n",
    "    print(f\"Eigenvalue λ = {evalue:.2f} with eigenvector {tuple(vector)}\")\n"
   ]
  },
  {
   "cell_type": "markdown",
   "metadata": {},
   "source": [
    "<br>\n",
    "<br>\n",
    "<br>\n",
    "<br>\n",
    "<br>\n",
    "\n",
    "<br>\n",
    "<br>\n",
    "<br>\n",
    "<br>\n",
    "<br>\n",
    "\n",
    "<br>\n",
    "<br>\n",
    "<br>\n",
    "<br>\n",
    "<br>\n",
    "\n"
   ]
  },
  {
   "cell_type": "markdown",
   "metadata": {
    "slideshow": {
     "slide_type": "subslide"
    }
   },
   "source": [
    "# A two-stage population model for cicadas\n",
    "\n",
    "**Assumptions:** \n",
    "- The population is subdivided into two life stages: nymphs ($N$) and adult cicadas ($A$). \n",
    "- Nymphs remain underground for some years before emerging as adults. \n",
    "\n",
    "**Model, in matrix form:** \n",
    "\n",
    "<!-- $$ \\begin{cases} N(t+1) = 0.488 N(t) + 1.632 A(t) \\\\ A(t+1) = 0.408 N(t) + 0.012 A(t) \\end{cases} $$\n",
    "or, in matrix form: -->\n",
    "$$ \\begin{bmatrix} N(t+1) \\\\ A(t+1) \\end{bmatrix} = \\begin{pmatrix} 0.488 & 1.632 \\\\ 0.408 & 0.012 \\end{pmatrix} \\begin{bmatrix} N(t) \\\\ A(t) \\end{bmatrix} $$\n",
    "\n",
    "**Questions:** \n",
    "- What percentage of nymphs remain underground as nymphs from one year to the next? \n",
    "- What percentage of adults survive a whole year, and thus remain as adults the following year? \n",
    "- What percentage of nymphs mature into adults (and thus emerge from underground) each year? \n",
    "- What is the birth rate? \n",
    "- What are the death rates of nymphs and adults? \n"
   ]
  },
  {
   "cell_type": "code",
   "execution_count": 10,
   "metadata": {},
   "outputs": [
    {
     "name": "stdout",
     "output_type": "stream",
     "text": [
      "Eigenvalue λ = 1.1 with eigenvector (8.0, 3.0)\n",
      "Eigenvalue λ = -0.6 with eigenvector (-7.109, 4.7394)\n"
     ]
    }
   ],
   "source": [
    "C = np.array([\n",
    "    [0.488, 1.632],\n",
    "    [0.408, 0.012], \n",
    "])\n",
    "\n",
    "evalues, T = np.linalg.eig(C)\n",
    "for evalue, evector in zip(evalues, T.transpose()):\n",
    "    vector = np.round(np.sqrt(73)*evector, 4)\n",
    "    print(f\"Eigenvalue λ = {latex(evalue, round=2)} with eigenvector {tuple(vector)}\")\n"
   ]
  },
  {
   "cell_type": "code",
   "execution_count": 11,
   "metadata": {},
   "outputs": [
    {
     "data": {
      "application/vnd.jupyter.widget-view+json": {
       "model_id": "d20db692afbf4156badea07710464b00",
       "version_major": 2,
       "version_minor": 0
      },
      "text/plain": [
       "interactive(children=(IntSlider(value=0, description='$n$', max=30), Output()), _dom_classes=('widget-interact…"
      ]
     },
     "metadata": {},
     "output_type": "display_data"
    },
    {
     "data": {
      "application/vnd.jupyter.widget-view+json": {
       "model_id": "0e736ff215d244978a309bf95b44c163",
       "version_major": 2,
       "version_minor": 0
      },
      "text/plain": [
       "FigureWidget({\n",
       "    'data': [{'line': {'color': 'lightgray'},\n",
       "              'marker': {'color': 'rgb(31, 119, 1…"
      ]
     },
     "metadata": {},
     "output_type": "display_data"
    }
   ],
   "source": [
    "options = dict(state_vars=(\"N\", \"A\"), var_names=(\"Nymphs\", \"Adults\"))\n",
    "statespace_interactive(C, {\"$n$\": (0, 100)}, xymax=850, show_eigenlines=True, **options)"
   ]
  },
  {
   "cell_type": "markdown",
   "metadata": {},
   "source": [
    "# What about eigenvalues that are non-real? \n",
    "\n",
    "(Remember that, since the eigenvalues of a matrix are the roots of its characteristic polynomial, and a polynomial can have complex numbers as roots, even if a matrix has only real numbers in it, some of its eigenvalues can be non-real.) \n"
   ]
  },
  {
   "cell_type": "code",
   "execution_count": 12,
   "metadata": {},
   "outputs": [
    {
     "data": {
      "application/vnd.jupyter.widget-view+json": {
       "model_id": "29ad8b2510ca4e00af76f49c1b8ed081",
       "version_major": 2,
       "version_minor": 0
      },
      "text/plain": [
       "interactive(children=(IntSlider(value=0, description='$t$', max=50), Output()), _dom_classes=('widget-interact…"
      ]
     },
     "metadata": {},
     "output_type": "display_data"
    },
    {
     "data": {
      "application/vnd.jupyter.widget-view+json": {
       "model_id": "fdc6f91b0a06446784c62aefd7b033a5",
       "version_major": 2,
       "version_minor": 0
      },
      "text/plain": [
       "FigureWidget({\n",
       "    'data': [{'line': {'color': 'lightgray'},\n",
       "              'marker': {'color': 'rgb(31, 119, 1…"
      ]
     },
     "metadata": {},
     "output_type": "display_data"
    }
   ],
   "source": [
    "M = np.array([\n",
    "    [ 0.6,  0.8], \n",
    "    [-0.8,  0.6], \n",
    "])\n",
    "complex_interactive(M)"
   ]
  },
  {
   "cell_type": "code",
   "execution_count": 13,
   "metadata": {},
   "outputs": [
    {
     "data": {
      "application/vnd.jupyter.widget-view+json": {
       "model_id": "b3b0c139223d4a0ab7f852853559e6b9",
       "version_major": 2,
       "version_minor": 0
      },
      "text/plain": [
       "interactive(children=(IntSlider(value=0, description='$t$', max=50), Output()), _dom_classes=('widget-interact…"
      ]
     },
     "metadata": {},
     "output_type": "display_data"
    },
    {
     "data": {
      "application/vnd.jupyter.widget-view+json": {
       "model_id": "fb352346804c41988fbd1f0b634bb2d2",
       "version_major": 2,
       "version_minor": 0
      },
      "text/plain": [
       "FigureWidget({\n",
       "    'data': [{'line': {'color': 'lightgray'},\n",
       "              'marker': {'color': 'rgb(31, 119, 1…"
      ]
     },
     "metadata": {},
     "output_type": "display_data"
    }
   ],
   "source": [
    "M2 = np.array([\n",
    "    [ 0.0, -1.0], \n",
    "    [ 1.0,  1.2], \n",
    "])\n",
    "complex_interactive(M2)"
   ]
  },
  {
   "cell_type": "code",
   "execution_count": 14,
   "metadata": {},
   "outputs": [
    {
     "data": {
      "application/vnd.jupyter.widget-view+json": {
       "model_id": "efee02ee178040eb9e05bf1db38a1387",
       "version_major": 2,
       "version_minor": 0
      },
      "text/plain": [
       "interactive(children=(IntSlider(value=0, description='$t$', max=50), Output()), _dom_classes=('widget-interact…"
      ]
     },
     "metadata": {},
     "output_type": "display_data"
    },
    {
     "data": {
      "application/vnd.jupyter.widget-view+json": {
       "model_id": "52600f2e9d24479cbb43ab0b39e380c7",
       "version_major": 2,
       "version_minor": 0
      },
      "text/plain": [
       "FigureWidget({\n",
       "    'data': [{'line': {'color': 'lightgray'},\n",
       "              'marker': {'color': 'rgb(31, 119, 1…"
      ]
     },
     "metadata": {},
     "output_type": "display_data"
    }
   ],
   "source": [
    "complex_interactive(0.9*M)"
   ]
  },
  {
   "cell_type": "code",
   "execution_count": 15,
   "metadata": {},
   "outputs": [
    {
     "data": {
      "application/vnd.jupyter.widget-view+json": {
       "model_id": "c3bc90782df74b4fbbd26edcb8498d91",
       "version_major": 2,
       "version_minor": 0
      },
      "text/plain": [
       "interactive(children=(IntSlider(value=0, description='$t$', max=50), Output()), _dom_classes=('widget-interact…"
      ]
     },
     "metadata": {},
     "output_type": "display_data"
    },
    {
     "data": {
      "application/vnd.jupyter.widget-view+json": {
       "model_id": "6925134e0a30429b9887594b67662721",
       "version_major": 2,
       "version_minor": 0
      },
      "text/plain": [
       "FigureWidget({\n",
       "    'data': [{'line': {'color': 'lightgray'},\n",
       "              'marker': {'color': 'rgb(31, 119, 1…"
      ]
     },
     "metadata": {},
     "output_type": "display_data"
    }
   ],
   "source": [
    "complex_interactive(0.9*M2)"
   ]
  },
  {
   "cell_type": "code",
   "execution_count": 16,
   "metadata": {},
   "outputs": [
    {
     "data": {
      "application/vnd.jupyter.widget-view+json": {
       "model_id": "534869492a734b7da4e8fc6fdd9e1d1d",
       "version_major": 2,
       "version_minor": 0
      },
      "text/plain": [
       "interactive(children=(IntSlider(value=0, description='$t$', max=50), Output()), _dom_classes=('widget-interact…"
      ]
     },
     "metadata": {},
     "output_type": "display_data"
    },
    {
     "data": {
      "application/vnd.jupyter.widget-view+json": {
       "model_id": "71e9c8e1069b4da2a0a23718044de81c",
       "version_major": 2,
       "version_minor": 0
      },
      "text/plain": [
       "FigureWidget({\n",
       "    'data': [{'line': {'color': 'lightgray'},\n",
       "              'marker': {'color': 'rgb(31, 119, 1…"
      ]
     },
     "metadata": {},
     "output_type": "display_data"
    }
   ],
   "source": [
    "complex_interactive(1.1*M)"
   ]
  },
  {
   "cell_type": "code",
   "execution_count": 17,
   "metadata": {},
   "outputs": [
    {
     "data": {
      "application/vnd.jupyter.widget-view+json": {
       "model_id": "436ddde50e164e46bc7eef43ae647c14",
       "version_major": 2,
       "version_minor": 0
      },
      "text/plain": [
       "interactive(children=(IntSlider(value=0, description='$t$', max=50), Output()), _dom_classes=('widget-interact…"
      ]
     },
     "metadata": {},
     "output_type": "display_data"
    },
    {
     "data": {
      "application/vnd.jupyter.widget-view+json": {
       "model_id": "2ce6c9c1e3d44b5db18e4619e38ca047",
       "version_major": 2,
       "version_minor": 0
      },
      "text/plain": [
       "FigureWidget({\n",
       "    'data': [{'line': {'color': 'lightgray'},\n",
       "              'marker': {'color': 'rgb(31, 119, 1…"
      ]
     },
     "metadata": {},
     "output_type": "display_data"
    }
   ],
   "source": [
    "complex_interactive(1.1*M2)"
   ]
  },
  {
   "cell_type": "code",
   "execution_count": null,
   "metadata": {},
   "outputs": [],
   "source": []
  }
 ],
 "metadata": {
  "celltoolbar": "Slideshow",
  "hide_input": false,
  "kernelspec": {
   "display_name": "Python 3 (ipykernel)",
   "language": "python",
   "name": "python3"
  },
  "language_info": {
   "codemirror_mode": {
    "name": "ipython",
    "version": 3
   },
   "file_extension": ".py",
   "mimetype": "text/x-python",
   "name": "python",
   "nbconvert_exporter": "python",
   "pygments_lexer": "ipython3",
   "version": "3.9.2"
  }
 },
 "nbformat": 4,
 "nbformat_minor": 4
}
