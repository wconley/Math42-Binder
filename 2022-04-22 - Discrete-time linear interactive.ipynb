{
 "cells": [
  {
   "cell_type": "code",
   "execution_count": 1,
   "id": "82e65071",
   "metadata": {},
   "outputs": [],
   "source": [
    "from itertools import cycle\n",
    "import numpy as np\n",
    "from ipywidgets import IntSlider, FloatSlider, SelectionSlider\n",
    "\n",
    "import plotlymath as plt\n",
    "from myutils import interact, latex\n"
   ]
  },
  {
   "cell_type": "code",
   "execution_count": 2,
   "id": "d811eef0",
   "metadata": {},
   "outputs": [],
   "source": [
    "plt.set_defaults(margin=(25,0,40,50))\n",
    "colors = plt.plotly.colors.DEFAULT_PLOTLY_COLORS"
   ]
  },
  {
   "cell_type": "code",
   "execution_count": 3,
   "id": "4b4f9a49",
   "metadata": {},
   "outputs": [],
   "source": [
    "def discrete_linear_interactive():\n",
    "    xy_max = 10\n",
    "    line_length = 1000 * xy_max\n",
    "    max_steps = 50\n",
    "    labelpos = np.array([[0, -1], [1, 0]]) * 20\n",
    "    A = np.array([[1.1, 0], [0, 0.7]]) # Default initial matrix\n",
    "    trace_color = cycle(colors)\n",
    "    figure, plot = plt.make_figure(widget=True)\n",
    "    figure.layout.hovermode = \"closest\"\n",
    "    figure.layout.showlegend = False\n",
    "    figure.layout.update(width=750, height=600)\n",
    "    figure.layout.xaxis.domain = (0, 0.75)\n",
    "    plot.axes_labels(\"$x$\", \"$y$\")\n",
    "    plot.axes_ranges((-xy_max, xy_max), (-xy_max, xy_max), scale=(1, 1))\n",
    "    x = np.linspace(-xy_max, xy_max, 4 * xy_max + 1)\n",
    "    y = np.linspace(-xy_max, xy_max, 4 * xy_max + 1)\n",
    "    x, y = np.meshgrid(x, y)\n",
    "    points = np.array((x.flatten(), y.flatten())).transpose()\n",
    "    plot.grid = plt.points(points, opacity=0, hoverinfo=\"none\")\n",
    "\n",
    "    evalues = np.round(np.linspace(-1.5, 1.5, 61), 2)\n",
    "    @interact(v1=IntSlider(0, 0, 360, 5, description=\"Eigenvector 1\"), \n",
    "              l1=SelectionSlider(options=evalues, value=1.1, description=r\"$\\lambda_1$\"), \n",
    "              v2=IntSlider(90, 0, 360, 5, description=\"Eigenvector 2\"), \n",
    "              l2=SelectionSlider(options=evalues, value=0.7, description=r\"$\\lambda_2$\"))\n",
    "    def update(v1, l1, v2, l2):\n",
    "        nonlocal trace_color\n",
    "        trace_color = cycle(colors)\n",
    "        if (v1 - v2) % 180 == 0:\n",
    "            A[:,:] = np.zeros((2, 2))\n",
    "            with figure.batch_update():\n",
    "                error = \"Invalid!<br>Eigenvectors must<br>not overlap\"\n",
    "                plot.matrix = plt.text(error, (0.8, 0.8), size=12, paper=True)\n",
    "                figure.data[1].update(x=[], y=[])\n",
    "                figure.data[2].update(x=[], y=[])\n",
    "                figure.data[3].update(x=[], y=[])\n",
    "                figure.layout.annotations[1].text = \"\"\n",
    "                figure.layout.annotations[2].text = \"\"\n",
    "            return\n",
    "        T = np.cos(np.array([[v1, v2], [90 - v1, 90 - v2]]) * np.pi/180)\n",
    "        A[:,:] = T @ np.diag([l1, l2]) @ np.linalg.inv(T)\n",
    "        with figure.batch_update():\n",
    "            matrix = fr\"$\\quad\\text{{Matrix:}}\\\\[4pt]{latex(A, round=3)}$\"\n",
    "            plot.matrix = plt.text(matrix, (0.8, 0.8), size=24, paper=True)\n",
    "            if abs(l1) == abs(l2):\n",
    "                NaN = np.array((np.nan, np.nan), dtype=float)\n",
    "                eigen = T * line_length\n",
    "                eigen = (-eigen[:,0], eigen[:,0], NaN, -eigen[:,1], eigen[:,1])\n",
    "                plot.dominant = plt.lines(eigen, color=\"yellow\", line_width=5)\n",
    "            else:\n",
    "                eigen = (T[:,0] if abs(l1) > abs(l2) else T[:,1]) * line_length\n",
    "                plot.dominant = plt.lines((-eigen, eigen), color=\"yellow\", line_width=5)\n",
    "            eigen = T[:,0] * line_length\n",
    "            color = \"darkgreen\" if l1 < 1 else \"darkred\" if l1 > 1 else \"gray\"\n",
    "            plot.evec1 = plt.lines((-eigen, eigen), color=color, line_width=3)\n",
    "            eigen = T[:,0] * (0.7 * xy_max)\n",
    "            xshift, yshift = labelpos @ T[:,0] * (0.35 if 90 <= v1 < 270 else 1)\n",
    "            label = fr\"$\\lambda_1 = {latex(l1)}$\"\n",
    "            plot.eval1 = plt.text(label, eigen, color=color, size=24, \n",
    "                    textangle=90 - (v1 + 90) % 180, xshift=xshift, yshift=yshift)\n",
    "            eigen = T[:,1] * line_length\n",
    "            color = \"darkgreen\" if l2 < 1 else \"darkred\" if l2 > 1 else \"gray\"\n",
    "            plot.evec2 = plt.lines((-eigen, eigen), color=color, line_width=3)\n",
    "            eigen = T[:,1] * (0.7 * xy_max)\n",
    "            xshift, yshift = labelpos @ T[:,1] * (0.35 if 90 <= v2 < 270 else 1)\n",
    "            label = fr\"$\\lambda_2 = {latex(l2)}$\"\n",
    "            plot.eval2 = plt.text(label, eigen, color=color, size=24, \n",
    "                    textangle=90 - (v2 + 90) % 180, xshift=xshift, yshift=yshift)\n",
    "            figure.data = figure.data[:4]\n",
    "    update(0, 1.1, 90, 0.7)\n",
    "\n",
    "    options = dict(mode=\"markers+lines\", line_color=\"lightgray\", hoverinfo=\"skip\")\n",
    "    def click_handler(trace, points, state):\n",
    "        solution = [(points.xs[0], points.ys[0])]\n",
    "        for t in range(max_steps):\n",
    "            solution.append(A @ solution[-1])\n",
    "        figure.add_trace(plt.points(solution, color=next(trace_color), **options))\n",
    "    figure.data[0].on_click(click_handler)\n",
    "    return figure\n"
   ]
  },
  {
   "cell_type": "markdown",
   "id": "67ef97a5",
   "metadata": {},
   "source": [
    "# In the interactive below, \n",
    "the sliders for “Eigenvector 1” and “Eigenvector 2” control the angles of the two eigen-lines. The other two sliders control the corresponding eigenvalues. Manipulating all four of these allows you to get any diagonalizable 2×2 matrix with real eigenvalues. \n",
    "\n",
    "(For matrices with non-real eigenvalues, see the second interactive, further down.) \n",
    "\n",
    "Clicking any point in the state space will show the behavior of a simulation starting at that initial state. \n"
   ]
  },
  {
   "cell_type": "code",
   "execution_count": 4,
   "id": "70797d5e",
   "metadata": {
    "scrolled": false
   },
   "outputs": [
    {
     "data": {
      "application/vnd.jupyter.widget-view+json": {
       "model_id": "1bdc0989ce5d4aaea8d13de83e2646b3",
       "version_major": 2,
       "version_minor": 0
      },
      "text/plain": [
       "interactive(children=(IntSlider(value=0, description='Eigenvector 1', max=360, step=5), SelectionSlider(descri…"
      ]
     },
     "metadata": {},
     "output_type": "display_data"
    },
    {
     "data": {
      "application/vnd.jupyter.widget-view+json": {
       "model_id": "013e96ec276048fc8efd0b72bb0bcbd8",
       "version_major": 2,
       "version_minor": 0
      },
      "text/plain": [
       "FigureWidget({\n",
       "    'data': [{'hoverinfo': 'none',\n",
       "              'marker': {'size': 8},\n",
       "              'mode': '…"
      ]
     },
     "metadata": {},
     "output_type": "display_data"
    }
   ],
   "source": [
    "discrete_linear_interactive()"
   ]
  },
  {
   "cell_type": "code",
   "execution_count": 6,
   "id": "5cea591c",
   "metadata": {},
   "outputs": [],
   "source": [
    "def rotation(d):\n",
    "    return np.cos((np.array([[0, 270], [90, 0]]) - d) * (np.pi/180))\n",
    "\n",
    "def complex_discrete_linear_interactive():\n",
    "    xy_max = 10\n",
    "    line_length = 0.3 * xy_max\n",
    "    max_steps = 50\n",
    "    A = np.array([[0, 1], [-1, 0]], dtype=float) # Default initial matrix\n",
    "    trace_color = cycle(colors)\n",
    "    figure, plot = plt.make_figure(widget=True)\n",
    "    figure.layout.hovermode = \"closest\"\n",
    "    figure.layout.showlegend = False\n",
    "    figure.layout.update(width=750, height=600)\n",
    "    figure.layout.xaxis.domain = (0, 0.75)\n",
    "    plot.axes_labels(\"$x$\", \"$y$\")\n",
    "    plot.axes_ranges((-xy_max, xy_max), (-xy_max, xy_max), scale=(1, 1))\n",
    "    x = np.linspace(-xy_max, xy_max, 4 * xy_max + 1)\n",
    "    y = np.linspace(-xy_max, xy_max, 4 * xy_max + 1)\n",
    "    x, y = np.meshgrid(x, y)\n",
    "    points = np.array((x.flatten(), y.flatten())).transpose()\n",
    "    plot.grid = plt.points(points, opacity=0, hoverinfo=\"none\")\n",
    "\n",
    "    angles = np.array((np.arange(-175, 0, 5), np.arange(5, 180, 5))).flatten()\n",
    "    @interact(real=IntSlider(0, 0, 360, 5, description=\"Real part\"), \n",
    "              rate=FloatSlider(value=1, min=0.5, max=1.5, step=0.02, \n",
    "                               description=r\"$\\lvert\\lambda\\rvert$\"), \n",
    "              imaglen=FloatSlider(value=1, min=0.3, max=3, step=0.1, \n",
    "                                  description=\"Imag part\"), \n",
    "              theta=SelectionSlider(options=angles, value=25, \n",
    "                                    description=r\"$\\arg(\\lambda)$\"))\n",
    "    def update(real, rate, imaglen, theta):\n",
    "        nonlocal trace_color\n",
    "        trace_color = cycle(colors)\n",
    "        T = rotation(real) * (1, imaglen)\n",
    "        A[:,:] = T @ (rate * rotation(theta)) @ np.linalg.inv(T)\n",
    "        with figure.batch_update():\n",
    "            matrix = fr\"$\\quad\\text{{Matrix:}}\\\\[4pt]{latex(A, round=3)}$\"\n",
    "            plot.matrix = plt.text(matrix, (0.8, 0.8), size=24, paper=True)\n",
    "            eigen = latex(rate * np.exp(theta*np.pi/180*1j), round=3, conjpair=True)\n",
    "            eigen = fr\"$\\text{{Eigenvalues:}}\\\\[4pt]\\lambda = {eigen}$\"\n",
    "            plot.evalue = plt.text(eigen, (0.8, 0.6), size=24, paper=True)\n",
    "            eigen = T[:,0] * line_length\n",
    "            plot.evec1 = plt.lines(((0,0), eigen), color=\"black\", line_width=3)\n",
    "            eigen = T[:,1] * line_length\n",
    "            plot.evec2 = plt.lines(((0,0), eigen), color=\"black\", line_width=3)\n",
    "            figure.data = figure.data[:3]\n",
    "    update(0, 1, 1, 25)\n",
    "\n",
    "    options = dict(mode=\"markers+lines\", line_color=\"lightgray\", hoverinfo=\"skip\")\n",
    "    def click_handler(trace, points, state):\n",
    "        solution = [(points.xs[0], points.ys[0])]\n",
    "        for t in range(max_steps):\n",
    "            solution.append(A @ solution[-1])\n",
    "        figure.add_trace(plt.points(solution, color=next(trace_color), **options))\n",
    "    figure.data[0].on_click(click_handler)\n",
    "    return figure\n"
   ]
  },
  {
   "cell_type": "markdown",
   "id": "2cb93f0f",
   "metadata": {},
   "source": [
    "# In this second interactive, \n",
    "the matrix will always be a 2×2 matrix with a conjugate pair of non-real eigenvalues. The sliders for $\\lvert\\lambda\\rvert$ and $\\arg(\\lambda)$ control the eigenvalue, in polar form: \n",
    "$$ \\lambda = r e^{i \\theta} \\qquad \\text{where } r = \\lvert\\lambda\\rvert \\text{ and } \\theta = \\arg(\\lambda) $$\n",
    "\n",
    "The sliders for “Real part” and “Imag part” control the eigenvector, in the following way: any eigenvector corresponding to the non-real eigenvalue $\\lambda = a + bi$ will have the form $\\vec{v} + i\\vec{w}$ for some vectors $\\vec{v}$ and $\\vec{w}$ in $\\mathbb{R}^2$. Furthermore, $\\vec{v}$ and $\\vec{w}$ can be chosen to be perpendicular, in which case the solutions to the discrete-time model $\\vec{x}(n+1) = A \\vec{x}$ will rotate (or spiral in/out) in an elliptical shape whose major and minor axes are the lines through $\\vec{v}$ and $\\vec{w}$. The “Real part” slider controls the direction of $\\vec{v}$ (the real part of this eigenvector) as an angle. Then $\\vec{w}$ will be chosen to be perpendicular to $\\vec{v}$ (90° CCW from it). But $\\vec{w}$ can have a length that is shorter or longer than $\\vec{v}$. The “Imag part” slider controls this length, relative to the length of $\\vec{v}$. So setting this to $1$ makes them the same length, meaning that the elliptical orbits of the simulations will actually be circles. Setting it to something greater than 1 makes $\\vec{w}$ the major axis of the ellipses, and setting it to something less than 1 makes $\\vec{w}$ the minor axis of the ellipses. \n",
    "\n",
    "Manipulating all four of these quantities allows you to get any 2×2 matrix with non-real eigenvalues. \n",
    "\n",
    "Once again, clicking any point in the state space will show the results of a simulation starting at that initial state. \n"
   ]
  },
  {
   "cell_type": "code",
   "execution_count": 7,
   "id": "3b59f5da",
   "metadata": {},
   "outputs": [
    {
     "data": {
      "application/vnd.jupyter.widget-view+json": {
       "model_id": "902645d3e7b64e0f956637c5dca4e427",
       "version_major": 2,
       "version_minor": 0
      },
      "text/plain": [
       "interactive(children=(IntSlider(value=0, description='Real part', max=360, step=5), FloatSlider(value=1.0, des…"
      ]
     },
     "metadata": {},
     "output_type": "display_data"
    },
    {
     "data": {
      "application/vnd.jupyter.widget-view+json": {
       "model_id": "dd6d3bfab7e4411889be010618a57fc0",
       "version_major": 2,
       "version_minor": 0
      },
      "text/plain": [
       "FigureWidget({\n",
       "    'data': [{'hoverinfo': 'none',\n",
       "              'marker': {'size': 8},\n",
       "              'mode': '…"
      ]
     },
     "metadata": {},
     "output_type": "display_data"
    }
   ],
   "source": [
    "complex_discrete_linear_interactive()"
   ]
  },
  {
   "cell_type": "code",
   "execution_count": null,
   "id": "0e49b865",
   "metadata": {},
   "outputs": [],
   "source": []
  }
 ],
 "metadata": {
  "hide_input": false,
  "kernelspec": {
   "display_name": "Python 3 (ipykernel)",
   "language": "python",
   "name": "python3"
  },
  "language_info": {
   "codemirror_mode": {
    "name": "ipython",
    "version": 3
   },
   "file_extension": ".py",
   "mimetype": "text/x-python",
   "name": "python",
   "nbconvert_exporter": "python",
   "pygments_lexer": "ipython3",
   "version": "3.9.2"
  }
 },
 "nbformat": 4,
 "nbformat_minor": 5
}
