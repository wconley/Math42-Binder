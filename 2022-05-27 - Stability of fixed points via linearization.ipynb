{
 "cells": [
  {
   "cell_type": "code",
   "execution_count": 1,
   "id": "e915a710",
   "metadata": {},
   "outputs": [],
   "source": [
    "from itertools import cycle\n",
    "import numpy as np\n",
    "from scipy.integrate import solve_ivp\n",
    "from ipywidgets import Button, Checkbox, HBox, VBox, HTMLMath\n",
    "\n",
    "import plotlymath as pm\n",
    "from myutils import interact, latex\n"
   ]
  },
  {
   "cell_type": "code",
   "execution_count": 2,
   "id": "8b9cfa31",
   "metadata": {},
   "outputs": [],
   "source": [
    "pm.set_defaults(margins=(40))\n",
    "colors = pm.plotly.colors.DEFAULT_PLOTLY_COLORS"
   ]
  },
  {
   "cell_type": "code",
   "execution_count": 3,
   "id": "d74bb2bd",
   "metadata": {},
   "outputs": [],
   "source": [
    "def stability_text(jacobian):\n",
    "    trace = np.trace(jacobian)\n",
    "    det = np.linalg.det(jacobian)\n",
    "    if det < 0:\n",
    "        return \"Saddle point\"\n",
    "    if trace == 0 or det == 0:\n",
    "        return \"Unknown\"\n",
    "    if trace**2 - 4*det < 0:\n",
    "        return \"Stable spiral\" if trace < 0 else \"Unstable spiral\"\n",
    "    return \"Sink\" if trace < 0 else \"Source\"\n",
    "\n",
    "def stability_color(jacobian):\n",
    "    trace = np.trace(jacobian)\n",
    "    det = np.linalg.det(jacobian)\n",
    "    if det < 0:\n",
    "        return \"darkorange\"\n",
    "    if trace == 0 or det == 0:\n",
    "        return \"gray\"\n",
    "    return \"darkgreen\" if trace < 0 else \"darkred\"\n",
    "\n",
    "def clickable_phase_portrait(f, xrange, yrange, tmax, **options):\n",
    "    axes_labels = options.get(\"axes_labels\", (r\"$x$\", r\"$y$\"))\n",
    "    fixed_points = options.get(\"fixed_points\", ())\n",
    "    jacobian = options.get(\"jacobian\", None)\n",
    "    fixed_points_color = [stability_color(jacobian(0, pt)) \n",
    "            for pt in fixed_points] if jacobian else \"black\"\n",
    "    fixed_points_color = options.get(\"fixed_points_color\", fixed_points_color)\n",
    "    fixed_points_text = [stability_text(jacobian(0, pt)) \n",
    "            for pt in fixed_points] if jacobian else \"\"\n",
    "    vector_field_color = options.get(\"vector_field_color\", \"limegreen\")\n",
    "    vector_field_opacity = options.get(\"vector_field_opacity\", 0.6)\n",
    "    colors = options.get(\"colors\", pm.plotly.colors.DEFAULT_PLOTLY_COLORS)\n",
    "\n",
    "    figure, plot = pm.make_figure(widget=True)\n",
    "    figure.layout.hovermode = \"closest\"\n",
    "    figure.layout.update(width=750, height=500)\n",
    "    plot.axes_labels(*axes_labels)\n",
    "    plot.axes_ranges(xrange, yrange)\n",
    "    xmin, xmax = xrange\n",
    "    ymin, ymax = yrange\n",
    "    x = np.linspace(xmin, xmax, 51)\n",
    "    y = np.linspace(ymin, ymax, 51)\n",
    "    xy = np.moveaxis(np.meshgrid(x, y), 0, 2).reshape(-1, 2)\n",
    "    plot.points(xy, size=15, opacity=0, hoverinfo=\"none\", showlegend=False, id=\"grid\")\n",
    "\n",
    "    if vector_field_color:\n",
    "        plot.vector_field(lambda x, y: f(0, (x, y)), xrange, yrange, \n",
    "                color=vector_field_color, opacity=vector_field_opacity, \n",
    "                name=\"Vector field\", visible=\"legendonly\", hoverinfo=\"skip\")\n",
    "    if fixed_points:\n",
    "        plot.points(fixed_points, color=fixed_points_color, size=10, \n",
    "                name=\"Fixed points\", visible=\"legendonly\", hoverinfo=\"x+y+text\", \n",
    "                hovertext=fixed_points_text)\n",
    "\n",
    "    color = cycle(colors)\n",
    "    options = dict(hoverinfo=\"skip\", showlegend=False, id=\"solutions[]\")\n",
    "    solve_options = dict(method=\"RK45\", dense_output=True)\n",
    "    #if jacobian:\n",
    "    #    solve_options[\"jac\"] = jacobian\n",
    "    def click_handler(trace, points, state):\n",
    "        if not (points.xs and points.ys):\n",
    "            return\n",
    "        initial_state = (points.xs[0], points.ys[0])\n",
    "        solution = solve_ivp(f, (0, tmax), initial_state, **solve_options)\n",
    "        plot.parametric(solution.sol, (0, tmax), color=next(color), **options)\n",
    "    plot[\"grid\"].on_click(click_handler)\n",
    "\n",
    "    def clear_figure(widget):\n",
    "        nonlocal color\n",
    "        color = cycle(colors)\n",
    "        with figure.batch_update():\n",
    "            try:\n",
    "                del plot[\"solutions[]\"]\n",
    "            except KeyError:\n",
    "                pass\n",
    "    clear_button = Button(description=\"Clear\")\n",
    "    clear_button.on_click(clear_figure)\n",
    "\n",
    "    return VBox((clear_button, figure))\n"
   ]
  },
  {
   "cell_type": "code",
   "execution_count": 4,
   "id": "a8b4e7c0",
   "metadata": {},
   "outputs": [],
   "source": [
    "def vector_field_linearization(f, xrange, yrange, fixed_points, jacobian, **options):\n",
    "    zoom_factors = options.get(\"zoom_factor\", (2, 4, 10, 100))\n",
    "    axes_labels = options.get(\"axes_labels\", (r\"$x$\", r\"$y$\"))\n",
    "    vector_field_color = options.get(\"vector_field_color\", \"limegreen\")\n",
    "    vector_field_opacity = options.get(\"vector_field_opacity\", 0.6)\n",
    "    linearization_color = options.get(\"linearization_color\", \"magenta\")\n",
    "    linearization_opacity = options.get(\"linearization_opacity\", 0.6)\n",
    "    plot_points = options.get(\"plot_points\", 15)\n",
    "\n",
    "    figure, plot = pm.make_figure(widget=True)\n",
    "    figure.layout.dragmode = \"select\" # For this figure, we want select, not pan\n",
    "    figure.layout.update(width=750, height=500)\n",
    "    figure.layout.legend.update(x=0.82, xanchor=\"left\")\n",
    "    plot._subplot.xaxis.domain = (0, 0.8)\n",
    "    plot.axes_labels(*axes_labels)\n",
    "    plot.points(fixed_points, color=\"black\", size=10, \n",
    "            name=\"Fixed points\", id=\"fixed points\")\n",
    "    plot.text(\"\", (0, 0), paper=True, visible=False, id=\"matrix\")\n",
    "    plot.text(\"\", (0, 0), paper=True, visible=False, id=\"eigenvalues\")\n",
    "\n",
    "    def zoomin(widget):\n",
    "        selected = []\n",
    "        if plot[\"fixed points\"].selectedpoints:\n",
    "            for i in plot[\"fixed points\"].selectedpoints:\n",
    "                selected.append(fixed_points[i])\n",
    "        if len(selected) != 1:\n",
    "            return\n",
    "        x0, y0 = selected[0]\n",
    "        J0 = jacobian(0, (x0, y0))\n",
    "        linearization = lambda x, y: J0 @ (x - x0, y - y0)\n",
    "        eigenvalues = np.linalg.eigvals(J0)\n",
    "        if eigenvalues[0].imag:\n",
    "            eigenvalues = latex(eigenvalues[0], round=3, conjpair=True)\n",
    "        else:\n",
    "            eigenvalues = \", \".join([latex(a, round=3) for a in eigenvalues])\n",
    "        zoom_factor = button_zooms[widget]\n",
    "        zoom_xrange = (xrange[1] - xrange[0]) / zoom_factor\n",
    "        zoom_yrange = (yrange[1] - yrange[0]) / zoom_factor\n",
    "        new_xrange = (x0 - zoom_xrange/2, x0 + zoom_xrange/2)\n",
    "        new_yrange = (y0 - zoom_yrange/2, y0 + zoom_yrange/2)\n",
    "        with figure.batch_update():\n",
    "            plot.axes_ranges(new_xrange, new_yrange)\n",
    "            plot.vector_field(lambda x, y: f(0, (x, y)), new_xrange, new_yrange, \n",
    "                    plotpoints=plot_points, id=\"vector field\")\n",
    "            plot.vector_field(linearization, new_xrange, new_yrange, \n",
    "                    plotpoints=plot_points, \n",
    "                    name=\"Linearization\", id=\"linearization\", showlegend=True, \n",
    "                    color=linearization_color, opacity=linearization_opacity)\n",
    "            plot.text(f\"${latex(J0, round=4)}$\", (0.85, 0.65), paper=True, \n",
    "                    visible=True, id=\"matrix\")\n",
    "            plot.text(f\"${eigenvalues}$\", (0.85, 0.40), paper=True, \n",
    "                    visible=eigenvalues_checkbox.value, id=\"eigenvalues\")\n",
    "\n",
    "    def zoomout(widget):\n",
    "        plot[\"fixed points\"].selectedpoints = None\n",
    "        with figure.batch_update():\n",
    "            plot.axes_ranges(xrange, yrange)\n",
    "            plot.vector_field(lambda x, y: f(0, (x, y)), xrange, yrange, \n",
    "                    plotpoints=plot_points, \n",
    "                    color=vector_field_color, opacity=vector_field_opacity, \n",
    "                    name=\"Vector field\", id=\"vector field\")\n",
    "            plot[\"linearization\"] = pm.points([(0,0)], \n",
    "                    visible=\"legendonly\", showlegend=False)\n",
    "            plot[\"matrix\"].update(visible=False)\n",
    "            plot[\"eigenvalues\"].update(visible=False)\n",
    "\n",
    "    def show_eigenvalues(state):\n",
    "        plot[\"eigenvalues\"].update(visible=state[\"new\"])\n",
    "\n",
    "    button = Button(description=\"Zoom out\")\n",
    "    zoomout(button)\n",
    "    button.on_click(zoomout)\n",
    "    button_zooms = {button: None}\n",
    "    for zoom_factor in zoom_factors:\n",
    "        button = Button(description=f\"Zoom in {zoom_factor}x\")\n",
    "        button.on_click(zoomin)\n",
    "        button_zooms[button] = zoom_factor\n",
    "    eigenvalues_checkbox = Checkbox(description=\"Show eigenvalues\")\n",
    "    eigenvalues_checkbox.observe(show_eigenvalues, names=\"value\")\n",
    "    button_zooms[eigenvalues_checkbox] = None\n",
    "\n",
    "    return VBox((HBox(tuple(button_zooms.keys())), figure))\n"
   ]
  },
  {
   "cell_type": "code",
   "execution_count": 5,
   "id": "351c8785",
   "metadata": {},
   "outputs": [
    {
     "data": {
      "application/vnd.jupyter.widget-view+json": {
       "model_id": "045657336d84429d9a12a3c78cae133d",
       "version_major": 2,
       "version_minor": 0
      },
      "text/plain": [
       "VBox(children=(HBox(children=(Button(description='Zoom out', style=ButtonStyle()), Button(description='Zoom in…"
      ]
     },
     "metadata": {},
     "output_type": "display_data"
    }
   ],
   "source": [
    "def f(t, state):\n",
    "    x, y = state\n",
    "    return ( 0.1*x - 0.01*x**2 - 0.04*x*y, 0.08*y - 0.02*x*y - 0.02*y**2 )\n",
    "\n",
    "def jacobian(t, state):\n",
    "    x, y = state\n",
    "    return np.array((\n",
    "        ( 0.1 - 0.02*x - 0.04*y , -0.04*x                ), \n",
    "        ( -0.02*y               , 0.08 - 0.02*x - 0.04*y ), \n",
    "    ))\n",
    "\n",
    "fixed_points = [(0, 0), (10, 0), (0, 4), (2, 2)]\n",
    "\n",
    "vector_field_linearization(f, (-0.2, 12), (-0.1, 5), fixed_points, jacobian)"
   ]
  },
  {
   "cell_type": "code",
   "execution_count": 6,
   "id": "f29324e4",
   "metadata": {},
   "outputs": [
    {
     "data": {
      "application/vnd.jupyter.widget-view+json": {
       "model_id": "09528b4e22be418088fcce466648a152",
       "version_major": 2,
       "version_minor": 0
      },
      "text/plain": [
       "VBox(children=(Button(description='Clear', style=ButtonStyle()), FigureWidget({\n",
       "    'data': [{'hoverinfo': 'no…"
      ]
     },
     "metadata": {},
     "output_type": "display_data"
    }
   ],
   "source": [
    "def f(t, state):\n",
    "    x, y = state\n",
    "    return ( 0.1*x - 0.01*x**2 - 0.04*x*y, 0.08*y - 0.02*x*y - 0.02*y**2 )\n",
    "\n",
    "def jacobian(t, state):\n",
    "    x, y = state\n",
    "    return np.array((\n",
    "        ( 0.1 - 0.02*x - 0.04*y , -0.04*x                ), \n",
    "        ( -0.02*y               , 0.08 - 0.02*x - 0.04*y ), \n",
    "    ))\n",
    "\n",
    "fixed_points = [(0, 0), (10, 0), (0, 4), (2, 2)]\n",
    "\n",
    "clickable_phase_portrait(f, (-0.05, 12), (-0.02, 5), 500, \n",
    "                         fixed_points=fixed_points, jacobian=jacobian)"
   ]
  },
  {
   "cell_type": "code",
   "execution_count": 7,
   "id": "bb8827c8",
   "metadata": {
    "scrolled": false
   },
   "outputs": [
    {
     "data": {
      "application/vnd.jupyter.widget-view+json": {
       "model_id": "0c733e79311443419657e4add3e56adb",
       "version_major": 2,
       "version_minor": 0
      },
      "text/plain": [
       "VBox(children=(HBox(children=(Button(description='Zoom out', style=ButtonStyle()), Button(description='Zoom in…"
      ]
     },
     "metadata": {},
     "output_type": "display_data"
    }
   ],
   "source": [
    "r = 0.1\n",
    "k = 100\n",
    "e = 0.4\n",
    "h = 10\n",
    "b = 0.25\n",
    "d = 0.08\n",
    "def f(t, state):\n",
    "    N, P = state\n",
    "    return ( r*N*(1 - N/k) - e*N/(h + N)*P, b*e*N/(h + N)*P - d*P )\n",
    "\n",
    "def jacobian(t, state):\n",
    "    N, P = state\n",
    "    return np.array((\n",
    "        ( r*(1 - 2*N/k) - e*h*P/(h + N)**2 , -e*N/(h + N)      ), \n",
    "        ( b*e*h*P/(h + N)**2               , b*e*N/(h + N) - d ), \n",
    "    ))\n",
    "\n",
    "N0 = h / (b*e/d - 1)\n",
    "P0 = r/e*(1 - N0/k)*(h + N0)\n",
    "fixed_points = [(0, 0), (k, 0), (N0, P0)]\n",
    "\n",
    "vector_field_linearization(f, (-2, 110), (-0.4, 15), fixed_points, jacobian)"
   ]
  },
  {
   "cell_type": "code",
   "execution_count": 8,
   "id": "b454d64c",
   "metadata": {
    "scrolled": false
   },
   "outputs": [
    {
     "data": {
      "application/vnd.jupyter.widget-view+json": {
       "model_id": "5e955054674243a4b397b196bd69ccc2",
       "version_major": 2,
       "version_minor": 0
      },
      "text/plain": [
       "VBox(children=(Button(description='Clear', style=ButtonStyle()), FigureWidget({\n",
       "    'data': [{'hoverinfo': 'no…"
      ]
     },
     "metadata": {},
     "output_type": "display_data"
    }
   ],
   "source": [
    "r = 0.1\n",
    "k = 100\n",
    "e = 0.4\n",
    "h = 10\n",
    "b = 0.25\n",
    "d = 0.08\n",
    "def f(t, state):\n",
    "    N, P = state\n",
    "    return ( r*N*(1 - N/k) - e*N/(h + N)*P, b*e*N/(h + N)*P - d*P )\n",
    "\n",
    "def jacobian(t, state):\n",
    "    N, P = state\n",
    "    return np.array((\n",
    "        ( r*(1 - 2*N/k) - e*h*P/(h + N)**2 , -e*N/(h + N)      ), \n",
    "        ( b*e*h*P/(h + N)**2               , b*e*N/(h + N) - d ), \n",
    "    ))\n",
    "\n",
    "N0 = h / (b*e/d - 1)\n",
    "P0 = r/e*(1 - N0/k)*(h + N0)\n",
    "fixed_points = [(0, 0), (k, 0), (N0, P0)]\n",
    "\n",
    "clickable_phase_portrait(f, (-2, 110), (-0.4, 15), 4000, \n",
    "                         fixed_points=fixed_points, jacobian=jacobian)"
   ]
  },
  {
   "cell_type": "code",
   "execution_count": null,
   "id": "f097447f",
   "metadata": {},
   "outputs": [],
   "source": []
  }
 ],
 "metadata": {
  "hide_input": false,
  "kernelspec": {
   "display_name": "Python 3 (ipykernel)",
   "language": "python",
   "name": "python3"
  },
  "language_info": {
   "codemirror_mode": {
    "name": "ipython",
    "version": 3
   },
   "file_extension": ".py",
   "mimetype": "text/x-python",
   "name": "python",
   "nbconvert_exporter": "python",
   "pygments_lexer": "ipython3",
   "version": "3.9.2"
  }
 },
 "nbformat": 4,
 "nbformat_minor": 5
}
