{
 "cells": [
  {
   "cell_type": "code",
   "execution_count": 1,
   "metadata": {},
   "outputs": [],
   "source": [
    "import numpy as np\n",
    "from ipywidgets import IntSlider\n",
    "\n",
    "import plotlymath as plt\n",
    "from myutils import interact, latex\n"
   ]
  },
  {
   "cell_type": "code",
   "execution_count": 8,
   "metadata": {},
   "outputs": [],
   "source": [
    "plt.set_defaults(margin=(25,0,40,50))"
   ]
  },
  {
   "cell_type": "code",
   "execution_count": 11,
   "metadata": {},
   "outputs": [],
   "source": [
    "A = np.array(((0.47, 0.42), (0.24, 0.85)))"
   ]
  },
  {
   "cell_type": "code",
   "execution_count": 16,
   "metadata": {
    "slideshow": {
     "slide_type": "skip"
    }
   },
   "outputs": [
    {
     "data": {
      "application/vnd.jupyter.widget-view+json": {
       "model_id": "647aaab318b343979d91b1c850b5e994",
       "version_major": 2,
       "version_minor": 0
      },
      "text/plain": [
       "interactive(children=(IntSlider(value=0, description='n', max=30), Output()), _dom_classes=('widget-interact',…"
      ]
     },
     "metadata": {},
     "output_type": "display_data"
    },
    {
     "data": {
      "application/vnd.jupyter.widget-view+json": {
       "model_id": "a8941088f8f04cacb9fbb874c84fe06d",
       "version_major": 2,
       "version_minor": 0
      },
      "text/plain": [
       "FigureWidget({\n",
       "    'data': [{'marker': {'size': 8},\n",
       "              'mode': 'markers',\n",
       "              'type': 'sc…"
      ]
     },
     "metadata": {},
     "output_type": "display_data"
    }
   ],
   "source": [
    "def blackbear_interactive_single(A):\n",
    "    xmax, ymax = (850, 850)\n",
    "    years = 30\n",
    "    solution = [np.array((500, 250), dtype=float)]\n",
    "    for n in range(years):\n",
    "        solution.append(A @ solution[-1])\n",
    "\n",
    "    figure, plot = plt.make_figure(widget=True)\n",
    "    figure.layout.update(width=750, height=600)\n",
    "    figure.layout.xaxis.domain = (0, 0.75)\n",
    "    plot.axes_labels(\"Juveniles\", \"Adults\")\n",
    "    plot.axes_ranges((0, xmax), (0, ymax), scale=(1, 1))\n",
    "\n",
    "    @interact(n=IntSlider(min=0, max=years, value=0))\n",
    "    def update(n):\n",
    "        label = latex((f\"J({n})\", f\"A({n})\")) + \" = \" + latex(solution[n], 1)\n",
    "        with figure.batch_update():\n",
    "            plot.bears = plt.points(solution[:n+1])\n",
    "            plot.label = plt.text(f\"${label}$\", (0.77, 0.5), paper=True, font_size=24)\n",
    "\n",
    "    return figure\n",
    "\n",
    "blackbear_interactive_single(A)\n"
   ]
  },
  {
   "cell_type": "code",
   "execution_count": 17,
   "metadata": {},
   "outputs": [
    {
     "data": {
      "application/vnd.jupyter.widget-view+json": {
       "model_id": "808e179300aa4cac9612ddac2dc41ec3",
       "version_major": 2,
       "version_minor": 0
      },
      "text/plain": [
       "interactive(children=(IntSlider(value=0, description='blue', max=30), IntSlider(value=0, description='darkoran…"
      ]
     },
     "metadata": {},
     "output_type": "display_data"
    },
    {
     "data": {
      "application/vnd.jupyter.widget-view+json": {
       "model_id": "7b0aacc8014240c88fa25abd3deba040",
       "version_major": 2,
       "version_minor": 0
      },
      "text/plain": [
       "FigureWidget({\n",
       "    'data': [{'marker': {'color': 'blue', 'size': 8},\n",
       "              'mode': 'markers+lines',\n",
       "  …"
      ]
     },
     "metadata": {},
     "output_type": "display_data"
    }
   ],
   "source": [
    "def blackbear_interactive_many(A):\n",
    "    xmax, ymax = (850, 850)\n",
    "    years = 30\n",
    "    solutions = {\n",
    "        \"blue\":       [np.array((500, 250), dtype=float)], \n",
    "        \"darkorange\": [np.array((500,  50), dtype=float)], \n",
    "        \"purple\":     [np.array((150, 500), dtype=float)], \n",
    "        \"magenta\":    [np.array(( 50, 700), dtype=float)], \n",
    "    }\n",
    "    for solution in solutions.values():\n",
    "        for t in range(years):\n",
    "            solution.append(A @ solution[-1])\n",
    "\n",
    "    figure, plot = plt.make_figure(widget=True)\n",
    "    figure.layout.update(width=750, height=600)\n",
    "    figure.layout.xaxis.domain = (0, 0.75)\n",
    "    plot.axes_labels(\"Juveniles\", \"Adults\")\n",
    "    plot.axes_ranges((0, xmax), (0, ymax), scale=(1, 1))\n",
    "    length = np.linalg.norm((xmax, ymax))\n",
    "    evalues, evectors = np.linalg.eig(A)\n",
    "    eigenlines = []\n",
    "    for evalue, evector in zip(evalues, evectors.transpose()):\n",
    "        eigenline = np.array([evector * -length, evector * length])\n",
    "        color = \"darkred\" if abs(evalue) < 1 else \"darkgreen\"\n",
    "        eigenlines.append(plt.lines(eigenline, color=color, opacity=0.6, line_width=4, \n",
    "                name=\"Eigenline\", legendgroup=\"eigenlines\", visible=\"legendonly\"))\n",
    "\n",
    "    controls = {color: IntSlider(min=0, max=years, value=0) for color in solutions}\n",
    "    @interact(**controls)\n",
    "    def update(**controls):\n",
    "        with figure.batch_update():\n",
    "            for i, (color, solution) in enumerate(solutions.items()):\n",
    "                n = controls[color]\n",
    "                label = latex((f\"J({n})\", f\"A({n})\")) + \" = \" + latex(solution[n], 1)\n",
    "                setattr(plot, f\"{color}pts\", plt.points(solution[:n+1], \n",
    "                        color=color, mode=\"markers+lines\", showlegend=False))\n",
    "                setattr(plot, f\"{color}label\", plt.text(f\"${label}$\", (0.77, 0.85-0.2*i), \n",
    "                        color=color, paper=True, size=24))\n",
    "\n",
    "    update(**{color: 0 for color in solutions})\n",
    "    plot.eigenlines = eigenlines\n",
    "    return figure\n",
    "\n",
    "blackbear_interactive_many(A)\n"
   ]
  },
  {
   "cell_type": "code",
   "execution_count": 14,
   "metadata": {},
   "outputs": [
    {
     "name": "stdout",
     "output_type": "stream",
     "text": [
      "Eigenvalue λ = 0.29 with eigenvector (4.5957, -1.9696)\n",
      "Eigenvalue λ = 1.03 with eigenvector (3.0, 4.0)\n"
     ]
    }
   ],
   "source": [
    "evalues, evectors = np.linalg.eig(A)\n",
    "for evalue, evector in zip(evalues, evectors.transpose()):\n",
    "    vector = np.round(-5*evector, 4)\n",
    "    print(f\"Eigenvalue λ = {evalue:.2f} with eigenvector {tuple(vector)}\")\n"
   ]
  },
  {
   "cell_type": "markdown",
   "metadata": {
    "slideshow": {
     "slide_type": "subslide"
    }
   },
   "source": [
    "# A two-stage black bear population model\n",
    "\n",
    "**Assumptions:** \n",
    "- The population is subdivided into two types of bears: juveniles ($J$) and adults ($A$). \n",
    "- Each year, on average, $42\\%$ of adults give birth to a cub. \n",
    "- Each year, $24\\%$ of juveniles reach adulthood. \n",
    "- Each year, $15\\%$ of adult bears die, and $29\\%$ of juvenile bears die. \n",
    "\n",
    "**Resulting model:** \n",
    "\n",
    "<!-- $$ \\begin{bmatrix} J(n+1) \\\\ A(n+1) \\end{bmatrix} = \\begin{bmatrix} 0.47 J(n) + 0.42 A(n) \\\\ 0.24 J(n) + 0.85 A(n) \\end{bmatrix} $$ -->\n",
    "$$ \\begin{cases} J(n+1) = 0.47 J(n) + 0.42 A(n) \\\\ A(n+1) = 0.24 J(n) + 0.85 A(n) \\end{cases} $$\n",
    "or, in matrix form: \n",
    "$$ \\begin{bmatrix} J(n+1) \\\\ A(n+1) \\end{bmatrix} = \\begin{pmatrix} 0.47 & 0.42 \\\\ 0.24 & 0.85 \\end{pmatrix} \\begin{bmatrix} J(n) \\\\ A(n) \\end{bmatrix} $$\n"
   ]
  },
  {
   "cell_type": "code",
   "execution_count": null,
   "metadata": {},
   "outputs": [],
   "source": []
  }
 ],
 "metadata": {
  "celltoolbar": "Slideshow",
  "hide_input": false,
  "kernelspec": {
   "display_name": "Python 3 (ipykernel)",
   "language": "python",
   "name": "python3"
  },
  "language_info": {
   "codemirror_mode": {
    "name": "ipython",
    "version": 3
   },
   "file_extension": ".py",
   "mimetype": "text/x-python",
   "name": "python",
   "nbconvert_exporter": "python",
   "pygments_lexer": "ipython3",
   "version": "3.9.2"
  }
 },
 "nbformat": 4,
 "nbformat_minor": 4
}
