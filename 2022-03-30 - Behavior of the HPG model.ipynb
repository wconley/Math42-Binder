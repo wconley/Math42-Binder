{
 "cells": [
  {
   "cell_type": "code",
   "execution_count": 1,
   "metadata": {
    "slideshow": {
     "slide_type": "skip"
    }
   },
   "outputs": [],
   "source": [
    "import numpy as np\n",
    "import scipy.integrate\n",
    "import plotly.graph_objects\n",
    "from ipywidgets import interact, IntSlider, Checkbox\n"
   ]
  },
  {
   "cell_type": "code",
   "execution_count": 2,
   "metadata": {
    "slideshow": {
     "slide_type": "skip"
    }
   },
   "outputs": [],
   "source": [
    "mydefault = plotly.graph_objects.layout.Template()\n",
    "mydefault.layout.hovermode = False\n",
    "mydefault.layout.scene.hovermode = False\n",
    "mydefault.layout.xaxis.showspikes = False\n",
    "mydefault.layout.yaxis.showspikes = False\n",
    "mydefault.layout.xaxis.showgrid = False\n",
    "mydefault.layout.yaxis.showgrid = False\n",
    "mydefault.layout.xaxis.showline = True\n",
    "mydefault.layout.yaxis.showline = True\n",
    "mydefault.layout.scene.xaxis.showspikes = False\n",
    "mydefault.layout.scene.yaxis.showspikes = False\n",
    "mydefault.layout.scene.zaxis.showspikes = False\n",
    "mydefault.layout.dragmode = \"pan\"\n",
    "plotly.io.templates[\"mydefault\"] = mydefault\n",
    "plotly.io.templates.default = \"mydefault\"\n",
    "colors = plotly.colors.qualitative.D3\n",
    "# To see the other choices for Plotly's built-in lists of colors: \n",
    "#plotly.colors.qualitative.swatches()"
   ]
  },
  {
   "cell_type": "markdown",
   "metadata": {
    "slideshow": {
     "slide_type": "slide"
    }
   },
   "source": [
    "The finished HPG model: $\\displaystyle \\qquad \\begin{cases}\n",
    "    H' = \\frac{1}{1 + G^n} - 0.2H \\\\\n",
    "    P' = H - 0.2P \\\\\n",
    "    G' = P - 0.2G\n",
    "\\end{cases} $\n"
   ]
  },
  {
   "cell_type": "code",
   "execution_count": 3,
   "metadata": {
    "slideshow": {
     "slide_type": "-"
    }
   },
   "outputs": [
    {
     "data": {
      "application/vnd.jupyter.widget-view+json": {
       "model_id": "5d07cf93da3846dcaf41716761e30d10",
       "version_major": 2,
       "version_minor": 0
      },
      "text/plain": [
       "interactive(children=(IntSlider(value=2, description='n', max=20, min=1), Output()), _dom_classes=('widget-int…"
      ]
     },
     "metadata": {},
     "output_type": "display_data"
    },
    {
     "data": {
      "application/vnd.jupyter.widget-view+json": {
       "model_id": "14e1a167a1e043848b885c6a41447e3e",
       "version_major": 2,
       "version_minor": 0
      },
      "text/plain": [
       "FigureWidget({\n",
       "    'data': [{'mode': 'lines',\n",
       "              'type': 'scatter',\n",
       "              'uid': '312c1926-…"
      ]
     },
     "metadata": {},
     "output_type": "display_data"
    }
   ],
   "source": [
    "figure = plotly.graph_objects.FigureWidget()\n",
    "figure.layout.title = r\"Production of GnRH is a sigmoid function of H\"\n",
    "figure.add_scatter(mode=\"lines\")\n",
    "gnrh_production_plot = figure.data[-1]\n",
    "figure.add_annotation(x=2, y=1, font_size=20, font_color=\"black\", xanchor=\"center\", yanchor=\"middle\", showarrow=False, ax=0, ay=0)\n",
    "gnrh_production_text = figure.layout.annotations[-1]\n",
    "figure.layout.showlegend = False\n",
    "figure.layout.xaxis.title.text = r\"G (estrogen level)\"\n",
    "figure.layout.yaxis.title.text = r\"Production rate of GnRH (H)\"\n",
    "figure.layout.xaxis.range = [0, 3]\n",
    "figure.layout.yaxis.range = [0, 1.3]\n",
    "figure.layout.xaxis.rangemode = \"tozero\"\n",
    "figure.layout.yaxis.rangemode = \"tozero\"\n",
    "\n",
    "@interact(n=IntSlider(min=1, max=20, value=2))\n",
    "def update(n):\n",
    "    G = np.linspace(0, 3, 100)\n",
    "    sigmoid = 1/(1 + G**n)\n",
    "    with figure.batch_update():\n",
    "        gnrh_production_plot.update(x=G, y=sigmoid)\n",
    "        gnrh_production_text.text = fr\"$f(G) = \\frac{{1}}{{1 + G^{n}}}$\"\n",
    "\n",
    "figure"
   ]
  },
  {
   "cell_type": "markdown",
   "metadata": {
    "slideshow": {
     "slide_type": "subslide"
    }
   },
   "source": [
    "**Time series of the HPG model:** "
   ]
  },
  {
   "cell_type": "code",
   "execution_count": 4,
   "metadata": {
    "slideshow": {
     "slide_type": "-"
    }
   },
   "outputs": [
    {
     "data": {
      "application/vnd.jupyter.widget-view+json": {
       "model_id": "6334714b23b34e07b37d2e59e231ccb3",
       "version_major": 2,
       "version_minor": 0
      },
      "text/plain": [
       "interactive(children=(IntSlider(value=2, description='n', max=20, min=1), Output()), _dom_classes=('widget-int…"
      ]
     },
     "metadata": {},
     "output_type": "display_data"
    },
    {
     "data": {
      "application/vnd.jupyter.widget-view+json": {
       "model_id": "69dbb71425f64588863cdd8856c75894",
       "version_major": 2,
       "version_minor": 0
      },
      "text/plain": [
       "FigureWidget({\n",
       "    'data': [{'mode': 'lines',\n",
       "              'name': 'GnRH (H)',\n",
       "              'type': 'scatter…"
      ]
     },
     "metadata": {},
     "output_type": "display_data"
    }
   ],
   "source": [
    "figure = plotly.graph_objects.FigureWidget()\n",
    "figure.layout.title = r\"Time series plots of the HPG model\"\n",
    "figure.add_scatter(mode=\"lines\", name=\"GnRH (H)\")\n",
    "H_plot = figure.data[-1]\n",
    "figure.add_scatter(mode=\"lines\", name=\"FSH/LH (P)\")\n",
    "P_plot = figure.data[-1]\n",
    "figure.add_scatter(mode=\"lines\", name=\"Estrogen/progesterone (G)\")\n",
    "G_plot = figure.data[-1]\n",
    "#figure.layout.showlegend = False\n",
    "figure.layout.xaxis.title.text = r\"t (time)\"\n",
    "figure.layout.yaxis.title.text = r\"Hormone levels\"\n",
    "figure.layout.xaxis.range = [0, 200]\n",
    "figure.layout.yaxis.range = [0, 5]\n",
    "figure.layout.xaxis.rangemode = \"tozero\"\n",
    "figure.layout.yaxis.rangemode = \"tozero\"\n",
    "\n",
    "@interact(n=IntSlider(min=1, max=20, value=2))\n",
    "def update(n):\n",
    "    def vectorfield(t, state):\n",
    "        H, P, G = state\n",
    "        return ( 1/(1 + G**n) - 0.2*H, H - 0.2*P, P - 0.2*G )\n",
    "    t_range = (0, 200)\n",
    "    initial_state = (0.2, 0.5, 2)\n",
    "    solution = scipy.integrate.solve_ivp(vectorfield, t_range, initial_state, \n",
    "            vectorized=True, atol=1e-9, rtol=1e-12)\n",
    "    H, P, G = solution.y\n",
    "    with figure.batch_update():\n",
    "        H_plot.update(x=solution.t, y=H)\n",
    "        P_plot.update(x=solution.t, y=P)\n",
    "        G_plot.update(x=solution.t, y=G)\n",
    "\n",
    "figure"
   ]
  },
  {
   "cell_type": "markdown",
   "metadata": {
    "slideshow": {
     "slide_type": "subslide"
    }
   },
   "source": [
    "**A trajectory of the HPG model:** "
   ]
  },
  {
   "cell_type": "code",
   "execution_count": 5,
   "metadata": {
    "slideshow": {
     "slide_type": "-"
    }
   },
   "outputs": [
    {
     "data": {
      "application/vnd.jupyter.widget-view+json": {
       "model_id": "9d89dc31a7e5458f975b818a1ff0bf3d",
       "version_major": 2,
       "version_minor": 0
      },
      "text/plain": [
       "interactive(children=(IntSlider(value=12, description='n', max=20, min=1), Checkbox(value=False, description='…"
      ]
     },
     "metadata": {},
     "output_type": "display_data"
    },
    {
     "data": {
      "application/vnd.jupyter.widget-view+json": {
       "model_id": "19cc494dd0da427aae172ed9b7c74875",
       "version_major": 2,
       "version_minor": 0
      },
      "text/plain": [
       "FigureWidget({\n",
       "    'data': [{'mode': 'lines',\n",
       "              'name': 'Trajectory',\n",
       "              'type': 'scatt…"
      ]
     },
     "metadata": {},
     "output_type": "display_data"
    }
   ],
   "source": [
    "def hpg_trajectory():\n",
    "    figure = plotly.graph_objects.FigureWidget()\n",
    "    figure.layout.showlegend = True\n",
    "    figure.layout.scene.xaxis.title.text = \"H (GnRH)\"\n",
    "    figure.layout.scene.yaxis.title.text = \"P (FSH and LH)\"\n",
    "    figure.layout.scene.zaxis.title.text = \"G (estrogen)\"\n",
    "    figure.add_scatter3d(mode=\"lines\", name=\"Trajectory\")\n",
    "    trajectory = figure.data[-1]\n",
    "    figure.add_scatter3d(mode=\"lines\", line_width=5, name=\"Attractor\")\n",
    "    attractor = figure.data[-1]\n",
    "\n",
    "    @interact(n=IntSlider(min=1, max=20, value=12), \n",
    "              show_lca=Checkbox(value=False, description=\"Show attractor\"))\n",
    "    def update(n, show_lca):\n",
    "        def vectorfield(t, state):\n",
    "            H, P, G = state\n",
    "            return ( 1/(1 + G**n) - 0.2*H, H - 0.2*P, P - 0.2*G )\n",
    "        t_range = (0, 800)\n",
    "        initial_state = (0.2, 0.5, 2)\n",
    "        solution = scipy.integrate.solve_ivp(vectorfield, t_range, initial_state, \n",
    "                vectorized=True, atol=1e-9, rtol=1e-12)\n",
    "        H, P, G = solution.y\n",
    "        with figure.batch_update():\n",
    "            end = int(H.shape[0] * (0.8 if show_lca else 1))\n",
    "            trajectory.x = H[:end]\n",
    "            trajectory.y = P[:end]\n",
    "            trajectory.z = G[:end]\n",
    "            attractor.x = H[end:]\n",
    "            attractor.y = P[end:]\n",
    "            attractor.z = G[end:]\n",
    "            attractor.visible = show_lca\n",
    "    return figure\n",
    "hpg_trajectory()\n"
   ]
  },
  {
   "cell_type": "code",
   "execution_count": null,
   "metadata": {},
   "outputs": [],
   "source": []
  }
 ],
 "metadata": {
  "celltoolbar": "Slideshow",
  "hide_input": false,
  "kernelspec": {
   "display_name": "Python 3 (ipykernel)",
   "language": "python",
   "name": "python3"
  },
  "language_info": {
   "codemirror_mode": {
    "name": "ipython",
    "version": 3
   },
   "file_extension": ".py",
   "mimetype": "text/x-python",
   "name": "python",
   "nbconvert_exporter": "python",
   "pygments_lexer": "ipython3",
   "version": "3.9.2"
  }
 },
 "nbformat": 4,
 "nbformat_minor": 4
}
