{
 "cells": [
  {
   "cell_type": "code",
   "execution_count": 1,
   "id": "dd77af05",
   "metadata": {},
   "outputs": [],
   "source": [
    "import numpy as np\n",
    "from ipywidgets import FloatSlider\n",
    "\n",
    "import plotlymath as pm\n",
    "from myutils import interact\n"
   ]
  },
  {
   "cell_type": "code",
   "execution_count": 2,
   "id": "705bd74c",
   "metadata": {},
   "outputs": [],
   "source": [
    "pm.set_defaults(margin=(30, 50))"
   ]
  },
  {
   "cell_type": "code",
   "execution_count": 3,
   "id": "c7580b5f",
   "metadata": {},
   "outputs": [],
   "source": [
    "def solution_interactive():\n",
    "    figure, plot = pm.make_figure(widget=True)\n",
    "    figure.layout.legend.update(x=1, xanchor=\"right\", borderwidth=1)\n",
    "    plot.axes_ranges((-8, 12), (-1, 4))\n",
    "    plot.axes_labels(r\"$t$\", r\"$x(t)$\")\n",
    "\n",
    "    def x_1(t): \n",
    "        C = np.tan(1/2)\n",
    "        return 2*np.arctan(C*np.exp(t))\n",
    "    plot.function(x_1, (-8, 12), name=\"x' = sin(x)\")\n",
    "\n",
    "    @interact(r=FloatSlider(min=0.01, max=2, step=0.01, value=1))\n",
    "    def update(r):\n",
    "        def x_2(t):\n",
    "            C = np.pi - 1\n",
    "            return np.pi / (1 + C*np.exp(-r*t))\n",
    "        with figure.batch_update():\n",
    "            plot.function(x_2, (-8, 12), name=\"Logistic\", id=\"logistic\")\n",
    "\n",
    "    return figure\n"
   ]
  },
  {
   "cell_type": "code",
   "execution_count": 4,
   "id": "2ca8f54c",
   "metadata": {},
   "outputs": [
    {
     "data": {
      "application/vnd.jupyter.widget-view+json": {
       "model_id": "78d0154d96644d03b93b1b3f407a642e",
       "version_major": 2,
       "version_minor": 0
      },
      "text/plain": [
       "interactive(children=(FloatSlider(value=1.0, description='r', max=2.0, min=0.01, step=0.01), Output()), _dom_c…"
      ]
     },
     "metadata": {},
     "output_type": "display_data"
    },
    {
     "data": {
      "application/vnd.jupyter.widget-view+json": {
       "model_id": "d8f696fab5ed46fdb52a33eedefc3382",
       "version_major": 2,
       "version_minor": 0
      },
      "text/plain": [
       "FigureWidget({\n",
       "    'data': [{'line': {'shape': 'linear', 'smoothing': 0},\n",
       "              'mode': 'lines',\n",
       "     …"
      ]
     },
     "metadata": {},
     "output_type": "display_data"
    }
   ],
   "source": [
    "solution_interactive()"
   ]
  },
  {
   "cell_type": "code",
   "execution_count": 5,
   "id": "7f244771",
   "metadata": {},
   "outputs": [],
   "source": [
    "def DE_interactive():\n",
    "    figure, plot = pm.make_figure(widget=True)\n",
    "    figure.layout.legend.update(x=1, xanchor=\"right\", borderwidth=1)\n",
    "    plot.axes_ranges((-2, 5), (-2, 2))\n",
    "    plot.axes_labels(\"$x$\", \"functions\")\n",
    "\n",
    "    def f(x): return np.sin(x)\n",
    "    plot.function(f, (-2, 5), name=r\"sin(x)         \")\n",
    "\n",
    "    @interact(r=FloatSlider(min=0.01, max=2, step=0.01, value=1))\n",
    "    def update(r):\n",
    "        def g(x): return r*x*(1 - x/np.pi)\n",
    "        with figure.batch_update():\n",
    "            plot.function(g, (-2, 5), name=r\"$x \\left( 1 - \\frac{x}{\\pi} \\right)$\", id=\"g\")\n",
    "\n",
    "    return figure\n"
   ]
  },
  {
   "cell_type": "code",
   "execution_count": 6,
   "id": "ab865a7f",
   "metadata": {},
   "outputs": [
    {
     "data": {
      "application/vnd.jupyter.widget-view+json": {
       "model_id": "b2daa56709a64715b10a779015c33f0a",
       "version_major": 2,
       "version_minor": 0
      },
      "text/plain": [
       "interactive(children=(FloatSlider(value=1.0, description='r', max=2.0, min=0.01, step=0.01), Output()), _dom_c…"
      ]
     },
     "metadata": {},
     "output_type": "display_data"
    },
    {
     "data": {
      "application/vnd.jupyter.widget-view+json": {
       "model_id": "b3b75ac427444561985442bb9be4d537",
       "version_major": 2,
       "version_minor": 0
      },
      "text/plain": [
       "FigureWidget({\n",
       "    'data': [{'line': {'shape': 'linear', 'smoothing': 0},\n",
       "              'mode': 'lines',\n",
       "     …"
      ]
     },
     "metadata": {},
     "output_type": "display_data"
    }
   ],
   "source": [
    "DE_interactive()"
   ]
  },
  {
   "cell_type": "code",
   "execution_count": null,
   "id": "38fcdc4a",
   "metadata": {},
   "outputs": [],
   "source": []
  }
 ],
 "metadata": {
  "hide_input": false,
  "kernelspec": {
   "display_name": "Python 3 (ipykernel)",
   "language": "python",
   "name": "python3"
  },
  "language_info": {
   "codemirror_mode": {
    "name": "ipython",
    "version": 3
   },
   "file_extension": ".py",
   "mimetype": "text/x-python",
   "name": "python",
   "nbconvert_exporter": "python",
   "pygments_lexer": "ipython3",
   "version": "3.9.2"
  }
 },
 "nbformat": 4,
 "nbformat_minor": 5
}
