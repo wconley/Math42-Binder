{
 "cells": [
  {
   "cell_type": "code",
   "execution_count": 1,
   "id": "0eb57446",
   "metadata": {},
   "outputs": [],
   "source": [
    "from scipy.integrate import solve_ivp\n",
    "from ipywidgets import FloatSlider\n",
    "\n",
    "from myutils import interact\n",
    "import plotlymath as pm"
   ]
  },
  {
   "cell_type": "code",
   "execution_count": 2,
   "id": "d9fa56c9",
   "metadata": {},
   "outputs": [],
   "source": [
    "pm.set_defaults(margins=20)"
   ]
  },
  {
   "cell_type": "code",
   "execution_count": 5,
   "id": "795a973e",
   "metadata": {},
   "outputs": [
    {
     "data": {
      "application/vnd.jupyter.widget-view+json": {
       "model_id": "d311ce6c13a54402b00ce429b36d07d3",
       "version_major": 2,
       "version_minor": 0
      },
      "text/plain": [
       "interactive(children=(FloatSlider(value=0.0, description='t', max=20.0, step=0.02), Output()), _dom_classes=('…"
      ]
     },
     "metadata": {},
     "output_type": "display_data"
    },
    {
     "data": {
      "application/vnd.jupyter.widget-view+json": {
       "model_id": "3fd36b25d1934addb30573b3b8c577a0",
       "version_major": 2,
       "version_minor": 0
      },
      "text/plain": [
       "FigureWidget({\n",
       "    'data': [{'fill': 'toself',\n",
       "              'fillcolor': 'green',\n",
       "              'line': {'col…"
      ]
     },
     "metadata": {},
     "output_type": "display_data"
    }
   ],
   "source": [
    "def f(t, state):\n",
    "    x, y = state\n",
    "    return (-2*x - 2*y, 4*x + 2*y)\n",
    "\n",
    "figure, plot = pm.make_figure(widget=True)\n",
    "plot.axes_ranges((-2.1, 2.1), (-2.1, 2.1), scale=(1, 1))\n",
    "plot.vector_field(lambda x, y: f(0, (x, y)), (-2, 2), (-2, 2), \n",
    "        color=\"green\", name=\"Vector field\", visible=\"legendonly\")\n",
    "plot.points([(1, 0)], color=\"black\", name=\"Initial state\", visible=\"legendonly\")\n",
    "\n",
    "solution = solve_ivp(f, (0, 20), (1, 0), dense_output=True)\n",
    "\n",
    "@interact(t=FloatSlider(min=0, max=20, value=0, step=0.02))\n",
    "def update(t):\n",
    "    plot.parametric(solution.sol, (0, t), color=\"red\", name=\"Solution\", id=\"solution\")\n",
    "\n",
    "figure\n"
   ]
  },
  {
   "cell_type": "code",
   "execution_count": null,
   "id": "392c1b1a",
   "metadata": {},
   "outputs": [],
   "source": []
  }
 ],
 "metadata": {
  "hide_input": false,
  "kernelspec": {
   "display_name": "Python 3 (ipykernel)",
   "language": "python",
   "name": "python3"
  },
  "language_info": {
   "codemirror_mode": {
    "name": "ipython",
    "version": 3
   },
   "file_extension": ".py",
   "mimetype": "text/x-python",
   "name": "python",
   "nbconvert_exporter": "python",
   "pygments_lexer": "ipython3",
   "version": "3.9.2"
  }
 },
 "nbformat": 4,
 "nbformat_minor": 5
}
