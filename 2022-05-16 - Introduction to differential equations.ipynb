{
 "cells": [
  {
   "cell_type": "code",
   "execution_count": 1,
   "id": "0eb57446",
   "metadata": {},
   "outputs": [],
   "source": [
    "import numpy as np\n",
    "from scipy.integrate import solve_ivp\n",
    "from ipywidgets import FloatSlider\n",
    "\n",
    "from myutils import interact\n",
    "import plotlymath as pm"
   ]
  },
  {
   "cell_type": "code",
   "execution_count": 2,
   "id": "d9fa56c9",
   "metadata": {},
   "outputs": [],
   "source": [
    "pm.set_defaults(margins=(20, 20, 40, 20))"
   ]
  },
  {
   "cell_type": "code",
   "execution_count": 3,
   "id": "795a973e",
   "metadata": {},
   "outputs": [
    {
     "data": {
      "application/vnd.jupyter.widget-view+json": {
       "model_id": "ae5668f73d4e48828c73f7a8ffd3605a",
       "version_major": 2,
       "version_minor": 0
      },
      "text/plain": [
       "interactive(children=(FloatSlider(value=0.0, description='t', max=20.0, step=0.02), Output()), _dom_classes=('…"
      ]
     },
     "metadata": {},
     "output_type": "display_data"
    },
    {
     "data": {
      "application/vnd.jupyter.widget-view+json": {
       "model_id": "317aa8ad16384a43acc599a282000ab1",
       "version_major": 2,
       "version_minor": 0
      },
      "text/plain": [
       "FigureWidget({\n",
       "    'data': [{'fill': 'toself',\n",
       "              'fillcolor': 'green',\n",
       "              'line': {'col…"
      ]
     },
     "metadata": {},
     "output_type": "display_data"
    }
   ],
   "source": [
    "def f(t, state):\n",
    "    x, y = state\n",
    "    return (-2*x - 2*y, 4*x + 2*y)\n",
    "\n",
    "figure, plot = pm.make_figure(widget=True)\n",
    "figure.layout.update(width=800, height=550)\n",
    "plot.axes_ranges((-2.1, 2.1), (-2.1, 2.1), scale=(1, 1))\n",
    "plot.axes_labels(\"$x$\", \"$y$\")\n",
    "plot.vector_field(lambda x, y: f(0, (x, y)), (-2.1, 2.1), (-2.1, 2.1), \n",
    "        color=\"green\", name=\"Vector field\", visible=\"legendonly\")\n",
    "plot.points([(1, 0)], color=\"black\", name=\"Initial state\", visible=\"legendonly\")\n",
    "\n",
    "solution = solve_ivp(f, (0, 20), (1, 0), dense_output=True)\n",
    "\n",
    "@interact(t=FloatSlider(min=0, max=20, value=0, step=0.02))\n",
    "def update(t):\n",
    "    plot.parametric(solution.sol, (0, t), color=\"red\", name=\"Trajectory\", id=\"trajectory\")\n",
    "\n",
    "figure\n"
   ]
  },
  {
   "cell_type": "code",
   "execution_count": 4,
   "id": "6d5de5d1",
   "metadata": {},
   "outputs": [
    {
     "data": {
      "application/vnd.jupyter.widget-view+json": {
       "model_id": "daccdc747a484be697b3ff19d09657bc",
       "version_major": 2,
       "version_minor": 0
      },
      "text/plain": [
       "interactive(children=(FloatSlider(value=0.0, description='t', max=20.0, step=0.02), Output()), _dom_classes=('…"
      ]
     },
     "metadata": {},
     "output_type": "display_data"
    },
    {
     "data": {
      "application/vnd.jupyter.widget-view+json": {
       "model_id": "6fe3c14e48b8408dbeb3043005cee4b9",
       "version_major": 2,
       "version_minor": 0
      },
      "text/plain": [
       "FigureWidget({\n",
       "    'data': [{'fill': 'toself',\n",
       "              'fillcolor': 'green',\n",
       "              'line': {'col…"
      ]
     },
     "metadata": {},
     "output_type": "display_data"
    }
   ],
   "source": [
    "def f(t, state, k, m):\n",
    "    x, v = state\n",
    "    return (v, -k/m*x - 9.8)\n",
    "\n",
    "k = 10\n",
    "m = 1\n",
    "initial_state = (-1.7, 0)\n",
    "\n",
    "figure, (phaseportrait, timeseries) = pm.make_figure(1, 2, widget=True)\n",
    "figure.layout.update(width=800, height=550)\n",
    "phaseportrait.axes_ranges((-2.5, 0.5), (-2.5, 2.5), scale=(1, 1))\n",
    "timeseries.axes_ranges((0, 5), (-2.5, 2.5))\n",
    "phaseportrait.axes_labels(\"$x$\", \"$v$\")\n",
    "timeseries.axes_labels(\"$t$\", r\"$x \\text{ and } v$\")\n",
    "phaseportrait.vector_field(lambda x, y: f(0, (x, y), k, m), (-2.5, 0.5), (-2.5, 2.5), \n",
    "        color=\"green\", name=\"Vector field\")\n",
    "phaseportrait.points([initial_state], \n",
    "        color=\"black\", name=\"Initial state\", visible=\"legendonly\")\n",
    "\n",
    "solution = solve_ivp(f, (0, 20), initial_state, dense_output=True, args=(k, m))\n",
    "\n",
    "@interact(t=FloatSlider(min=0, max=20, value=0, step=0.02))\n",
    "def update(t):\n",
    "    with figure.batch_update():\n",
    "        phaseportrait.parametric(solution.sol, (0, t), \n",
    "                color=\"red\", name=\"Trajectory\", id=\"trajectory\")\n",
    "        timeseries.function(lambda t0: solution.sol(t0)[0], (0, t), \n",
    "                color=\"black\", name=\"$x(t)$\", id=\"x\")\n",
    "        timeseries.function(lambda t0: solution.sol(t0)[1], (0, t), \n",
    "                color=\"magenta\", name=\"$v(t)$\", id=\"v\")\n",
    "update(0)\n",
    "timeseries[\"x\"].update(visible=\"legendonly\")\n",
    "timeseries[\"v\"].update(visible=\"legendonly\")\n",
    "\n",
    "figure\n"
   ]
  },
  {
   "cell_type": "code",
   "execution_count": null,
   "id": "6be4cb4e",
   "metadata": {},
   "outputs": [],
   "source": []
  }
 ],
 "metadata": {
  "hide_input": false,
  "kernelspec": {
   "display_name": "Python 3 (ipykernel)",
   "language": "python",
   "name": "python3"
  },
  "language_info": {
   "codemirror_mode": {
    "name": "ipython",
    "version": 3
   },
   "file_extension": ".py",
   "mimetype": "text/x-python",
   "name": "python",
   "nbconvert_exporter": "python",
   "pygments_lexer": "ipython3",
   "version": "3.9.2"
  }
 },
 "nbformat": 4,
 "nbformat_minor": 5
}
